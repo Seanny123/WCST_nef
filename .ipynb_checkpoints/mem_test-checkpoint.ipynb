{
 "metadata": {
  "name": "",
  "signature": "sha256:81c494231ee7d3075dffe7d0dfec74930f9f5477a5c50dc5239b49d60a757ef0"
 },
 "nbformat": 3,
 "nbformat_minor": 0,
 "worksheets": [
  {
   "cells": [
    {
     "cell_type": "code",
     "collapsed": false,
     "input": [
      "import nengo\n",
      "from nengo.utils.functions import piecewise\n",
      "\n",
      "with nengo.Network(label=\"mem\") as model:\n",
      "    input = nengo.Node(piecewise({0:[1,1], 0.5:[2,2], 1:[-1,-1]}))\n",
      "    gate = nengo.Node(piecewise({0:0, 0.5:1, 1:0}))\n",
      "    mem = nengo.networks.workingmemory.InputGatedMemory(100, 2)\n",
      "    \n",
      "    nengo.Connection(input, mem.input)\n",
      "    nengo.Connection(gate, mem.gate)\n",
      "    \n",
      "    out_probe = nengo.Probe(mem.output)\n",
      "    in_probe = nengo.Probe(input)"
     ],
     "language": "python",
     "metadata": {},
     "outputs": [],
     "prompt_number": 5
    },
    {
     "cell_type": "code",
     "collapsed": false,
     "input": [
      "sim = nengo.Simulator(model)\n",
      "sim.run(2)"
     ],
     "language": "python",
     "metadata": {},
     "outputs": [
      {
       "output_type": "stream",
       "stream": "stdout",
       "text": [
        "\r",
        "[#                             3%                              ] ETA: 0:00:04"
       ]
      },
      {
       "output_type": "stream",
       "stream": "stdout",
       "text": [
        "\r",
        "[###                           5%                              ] ETA: 0:00:04"
       ]
      },
      {
       "output_type": "stream",
       "stream": "stdout",
       "text": [
        "\r",
        "[####                          7%                              ] ETA: 0:00:03"
       ]
      },
      {
       "output_type": "stream",
       "stream": "stdout",
       "text": [
        "\r",
        "[######                       10%                              ] ETA: 0:00:03"
       ]
      },
      {
       "output_type": "stream",
       "stream": "stdout",
       "text": [
        "\r",
        "[#######                      12%                              ] ETA: 0:00:03"
       ]
      },
      {
       "output_type": "stream",
       "stream": "stdout",
       "text": [
        "\r",
        "[########                     14%                              ] ETA: 0:00:03"
       ]
      },
      {
       "output_type": "stream",
       "stream": "stdout",
       "text": [
        "\r",
        "[##########                   16%                              ] ETA: 0:00:03"
       ]
      },
      {
       "output_type": "stream",
       "stream": "stdout",
       "text": [
        "\r",
        "[###########                  18%                              ] ETA: 0:00:03"
       ]
      },
      {
       "output_type": "stream",
       "stream": "stdout",
       "text": [
        "\r",
        "[#############                21%                              ] ETA: 0:00:02"
       ]
      },
      {
       "output_type": "stream",
       "stream": "stdout",
       "text": [
        "\r",
        "[##############               23%                              ] ETA: 0:00:02"
       ]
      },
      {
       "output_type": "stream",
       "stream": "stdout",
       "text": [
        "\r",
        "[################             25%                              ] ETA: 0:00:02"
       ]
      },
      {
       "output_type": "stream",
       "stream": "stdout",
       "text": [
        "\r",
        "[#################            28%                              ] ETA: 0:00:02"
       ]
      },
      {
       "output_type": "stream",
       "stream": "stdout",
       "text": [
        "\r",
        "[###################          30%                              ] ETA: 0:00:02"
       ]
      },
      {
       "output_type": "stream",
       "stream": "stdout",
       "text": [
        "\r",
        "[####################         33%                              ] ETA: 0:00:02"
       ]
      },
      {
       "output_type": "stream",
       "stream": "stdout",
       "text": [
        "\r",
        "[#####################        34%                              ] ETA: 0:00:02"
       ]
      },
      {
       "output_type": "stream",
       "stream": "stdout",
       "text": [
        "\r",
        "[######################       36%                              ] ETA: 0:00:02"
       ]
      },
      {
       "output_type": "stream",
       "stream": "stdout",
       "text": [
        "\r",
        "[#######################      38%                              ] ETA: 0:00:02"
       ]
      },
      {
       "output_type": "stream",
       "stream": "stdout",
       "text": [
        "\r",
        "[########################     40%                              ] ETA: 0:00:02"
       ]
      },
      {
       "output_type": "stream",
       "stream": "stdout",
       "text": [
        "\r",
        "[##########################   42%                              ] ETA: 0:00:02"
       ]
      },
      {
       "output_type": "stream",
       "stream": "stdout",
       "text": [
        "\r",
        "[###########################  44%                              ] ETA: 0:00:02"
       ]
      },
      {
       "output_type": "stream",
       "stream": "stdout",
       "text": [
        "\r",
        "[############################ 46%                              ] ETA: 0:00:02"
       ]
      },
      {
       "output_type": "stream",
       "stream": "stdout",
       "text": [
        "\r",
        "[############################ 47%                              ] ETA: 0:00:02"
       ]
      },
      {
       "output_type": "stream",
       "stream": "stdout",
       "text": [
        "\r",
        "[############################ 49%                              ] ETA: 0:00:02"
       ]
      },
      {
       "output_type": "stream",
       "stream": "stdout",
       "text": [
        "\r",
        "[############################ 52%                              ] ETA: 0:00:02"
       ]
      },
      {
       "output_type": "stream",
       "stream": "stdout",
       "text": [
        "\r",
        "[############################ 54%                              ] ETA: 0:00:02"
       ]
      },
      {
       "output_type": "stream",
       "stream": "stdout",
       "text": [
        "\r",
        "[############################ 56% ##                           ] ETA: 0:00:02"
       ]
      },
      {
       "output_type": "stream",
       "stream": "stdout",
       "text": [
        "\r",
        "[############################ 59% ####                         ] ETA: 0:00:01"
       ]
      },
      {
       "output_type": "stream",
       "stream": "stdout",
       "text": [
        "\r",
        "[############################ 60% ####                         ] ETA: 0:00:01"
       ]
      },
      {
       "output_type": "stream",
       "stream": "stdout",
       "text": [
        "\r",
        "[############################ 63% ######                       ] ETA: 0:00:01"
       ]
      },
      {
       "output_type": "stream",
       "stream": "stdout",
       "text": [
        "\r",
        "[############################ 64% #######                      ] ETA: 0:00:01"
       ]
      },
      {
       "output_type": "stream",
       "stream": "stdout",
       "text": [
        "\r",
        "[############################ 66% ########                     ] ETA: 0:00:01"
       ]
      },
      {
       "output_type": "stream",
       "stream": "stdout",
       "text": [
        "\r",
        "[############################ 68% #########                    ] ETA: 0:00:01"
       ]
      },
      {
       "output_type": "stream",
       "stream": "stdout",
       "text": [
        "\r",
        "[############################ 71% ###########                  ] ETA: 0:00:01"
       ]
      },
      {
       "output_type": "stream",
       "stream": "stdout",
       "text": [
        "\r",
        "[############################ 72% ############                 ] ETA: 0:00:01"
       ]
      },
      {
       "output_type": "stream",
       "stream": "stdout",
       "text": [
        "\r",
        "[############################ 75% #############                ] ETA: 0:00:01"
       ]
      },
      {
       "output_type": "stream",
       "stream": "stdout",
       "text": [
        "\r",
        "[############################ 77% ###############              ] ETA: 0:00:01"
       ]
      },
      {
       "output_type": "stream",
       "stream": "stdout",
       "text": [
        "\r",
        "[############################ 79% ################             ] ETA: 0:00:01"
       ]
      },
      {
       "output_type": "stream",
       "stream": "stdout",
       "text": [
        "\r",
        "[############################ 81% #################            ] ETA: 0:00:01"
       ]
      },
      {
       "output_type": "stream",
       "stream": "stdout",
       "text": [
        "\r",
        "[############################ 83% ##################           ] ETA: 0:00:01"
       ]
      },
      {
       "output_type": "stream",
       "stream": "stdout",
       "text": [
        "\r",
        "[############################ 86% ####################         ] ETA: 0:00:01"
       ]
      },
      {
       "output_type": "stream",
       "stream": "stdout",
       "text": [
        "\r",
        "[############################ 88% #####################        ] ETA: 0:00:01"
       ]
      },
      {
       "output_type": "stream",
       "stream": "stdout",
       "text": [
        "\r",
        "[############################ 89% ######################       ] ETA: 0:00:01"
       ]
      },
      {
       "output_type": "stream",
       "stream": "stdout",
       "text": [
        "\r",
        "[############################ 91% #######################      ] ETA: 0:00:01"
       ]
      },
      {
       "output_type": "stream",
       "stream": "stdout",
       "text": [
        "\r",
        "[############################ 93% #########################    ] ETA: 0:00:01"
       ]
      },
      {
       "output_type": "stream",
       "stream": "stdout",
       "text": [
        "\r",
        "[############################ 95% ##########################   ] ETA: 0:00:01"
       ]
      },
      {
       "output_type": "stream",
       "stream": "stdout",
       "text": [
        "\r",
        "[############################ 97% ###########################  ] ETA: 0:00:01"
       ]
      },
      {
       "output_type": "stream",
       "stream": "stdout",
       "text": [
        "\r",
        "[############################ 99% ############################ ] ETA: 0:00:01"
       ]
      },
      {
       "output_type": "stream",
       "stream": "stdout",
       "text": [
        "\r",
        "Simulation finished in 0:00:03.                                                 \n"
       ]
      }
     ],
     "prompt_number": 6
    },
    {
     "cell_type": "code",
     "collapsed": false,
     "input": [
      "%matplotlib inline\n",
      "import matplotlib.pyplot as plt\n",
      "plt.figure()\n",
      "plt.plot(sim.trange(), sim.data[in_probe], label=\"input\")\n",
      "plt.plot(sim.trange(), sim.data[out_probe], label=\"output\")"
     ],
     "language": "python",
     "metadata": {},
     "outputs": [
      {
       "metadata": {},
       "output_type": "pyout",
       "prompt_number": 7,
       "text": [
        "[<matplotlib.lines.Line2D at 0x7fa0ae1b5f50>,\n",
        " <matplotlib.lines.Line2D at 0x7fa0ae15dfd0>]"
       ]
      },
      {
       "metadata": {},
       "output_type": "display_data",
       "png": "[encoded data removed]",
       "text": [
        "<matplotlib.figure.Figure at 0x7fa0b0162910>"
       ]
      }
     ],
     "prompt_number": 7
    },
    {
     "cell_type": "code",
     "collapsed": false,
     "input": [],
     "language": "python",
     "metadata": {},
     "outputs": []
    }
   ],
   "metadata": {}
  }
 ]
}