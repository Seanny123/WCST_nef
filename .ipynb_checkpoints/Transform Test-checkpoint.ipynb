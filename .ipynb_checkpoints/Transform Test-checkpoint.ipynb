{
 "metadata": {
  "name": "",
  "signature": "sha256:13354bf07ce968c112199ba84257d1fc3630c1084f98420b0a1f6cd8593bbe8d"
 },
 "nbformat": 3,
 "nbformat_minor": 0,
 "worksheets": [
  {
   "cells": [
    {
     "cell_type": "code",
     "collapsed": false,
     "input": [
      "# Get a transform from a bunch of similar cards\n",
      "\n",
      "# Try to check the similarity between the transform \n",
      "\n",
      "# Actually, I don't even know if we have to learn transforms or not... Can transforms pick out similarities between representations or is that something else?"
     ],
     "language": "python",
     "metadata": {},
     "outputs": [],
     "prompt_number": 2
    },
    {
     "cell_type": "code",
     "collapsed": false,
     "input": [
      "import nengo.spa\n",
      "\n",
      "# set up the vocab\n",
      "# dimensions and similarity taken from RPM\n",
      "vocab = nengo.spa.Vocabulary(128, max_similarity=0.1, unitary=[\"ONE\"], include_pairs=True)\n",
      "\n",
      "tmp = vocab.parse(\"ONE\")\n",
      "vocab.add(\"TWO\", vocab.parse(\"ONE*ONE\"))\n",
      "vocab.add(\"THREE\", vocab.parse(\"ONE*TWO\"))\n",
      "vocab.add(\"FOUR\", vocab.parse(\"ONE*THREE\"))\n",
      "\n",
      "# test repeating attributes later\n",
      "green_row_1 = vocab.parse(\"NUMBER*ONE + SHAPE*TRIANGLE + COLOUR*GREEN\")\n",
      "green_row_2 = vocab.parse(\"NUMBER*TWO + SHAPE*PLUS + COLOUR*GREEN\")\n",
      "green_row_3 = vocab.parse(\"NUMBER*THREE + SHAPE*STAR + COLOUR*GREEN\")\n",
      "# test swapping rules later\n",
      "yellow_row_1 = vocab.parse(\"NUMBER*ONE + SHAPE*TRIANGLE + COLOUR*YELLOW\")\n",
      "yellow_row_2 = vocab.parse(\"NUMBER*TWO + SHAPE*PLUS + COLOUR*YELLOW\")\n",
      "yellow_row_3 = vocab.parse(\"NUMBER*THREE + SHAPE*STAR + COLOUR*YELLOW\")\n",
      "\n",
      "trial_card = vocab.parse(\"NUMBER*ONE + SHAPE*CIRCLE + COLOUR*GREEN\")\n",
      "# test more varied options later\n",
      "green_option = vocab.parse(\"NUMBER*ONE + SHAPE*TRIANGLE + COLOUR*GREEN\")\n",
      "red_option = vocab.parse(\"NUMBER*TWO + SHAPE*STAR + COLOUR*RED\")\n",
      "yellow_option = vocab.parse(\"NUMBER*THREE + SHAPE*STAR + COLOUR*YELLOW\")\n",
      "blue_option = vocab.parse(\"NUMBER*FOUR + SHAPE*CIRCLE + COLOUR*BLUE\")"
     ],
     "language": "python",
     "metadata": {},
     "outputs": [],
     "prompt_number": 34
    },
    {
     "cell_type": "code",
     "collapsed": false,
     "input": [
      "# okay let's try getting a rule that's basically says use the same colour\n",
      "T = vocab.parse('0')\n",
      "T += green_row_2*~(green_row_1)\n",
      "T += green_row_3*~(green_row_2)\n",
      "T += yellow_row_2*~(yellow_row_1)\n",
      "T.normalize()\n",
      "\n",
      "# so every pair is basically a row in what would usually be the matrix\n",
      "\n",
      "# now test for similarity between the card and the options using the rule\n",
      "print(vocab.text(T))\n",
      "print(vocab.text(trial_card*T))\n",
      "print((trial_card*T).compare(green_option))\n",
      "print((trial_card*T).compare(yellow_option))\n",
      "print((trial_card*T).compare(red_option))\n",
      "print((trial_card*T).compare(blue_option))\n",
      "# I'm really afraid that this rule is too abstract and is just going to get clobbered by the averaging"
     ],
     "language": "python",
     "metadata": {},
     "outputs": [
      {
       "output_type": "stream",
       "stream": "stdout",
       "text": [
        "1.08COLOUR*GREEN;0.83TWO*NUMBER;0.70TRIANGLE*CIRCLE;0.65TRIANGLE*GREEN;0.53TWO*GREEN;0.52COLOUR*RED;0.52ONE*NUMBER;0.49NUMBER*SHAPE;0.42GREEN*BLUE;0.38THREE*TRIANGLE;0.38FOUR*TRIANGLE;0.35YELLOW;0.34FOUR*SHAPE;0.34STAR;0.33ONE*YELLOW;0.33NUMBER*COLOUR;0.32TRIANGLE*RED;0.28COLOUR*BLUE;0.25FOUR*PLUS;0.25ONE*THREE;0.25FOUR;0.25PLUS;0.22SHAPE*PLUS;0.21CIRCLE;0.21RED*BLUE;0.20THREE*COLOUR;0.18NUMBER*GREEN;0.17ONE*STAR;0.17TWO*FOUR;0.17THREE*GREEN;0.17COLOUR*CIRCLE;0.17FOUR*COLOUR;0.16BLUE;0.16THREE;0.16ONE*TWO;0.15PLUS*CIRCLE;0.14SHAPE*CIRCLE;0.12THREE*SHAPE;0.12ONE*PLUS;0.11ONE*CIRCLE;0.11ONE*RED;0.11TWO*THREE;0.11ONE*FOUR\n",
        "0.372832515082\n",
        "0.010432606079\n",
        "0.350479461462\n",
        "-0.000121210345997\n"
       ]
      }
     ],
     "prompt_number": 35
    },
    {
     "cell_type": "code",
     "collapsed": false,
     "input": [
      "trial_card = vocab.parse(\"NUMBER*ONE + SHAPE*CIRCLE + COLOUR*RED\")\n",
      "print(vocab.text(trial_card*T))\n",
      "print((trial_card*T).compare(green_option))\n",
      "print((trial_card*T).compare(yellow_option))\n",
      "print((trial_card*T).compare(red_option))\n",
      "print((trial_card*T).compare(blue_option))\n",
      "\n",
      "# If it works with three entries per row, then try to make the rule learning a weirder operation that looks for similar rules to strengthen?\n",
      "# That kind of sounds like a clean-up memory"
     ],
     "language": "python",
     "metadata": {},
     "outputs": [
      {
       "output_type": "stream",
       "stream": "stdout",
       "text": [
        "1.03TWO*NUMBER;0.66ONE*NUMBER;0.61COLOUR*RED;0.54TRIANGLE*CIRCLE;0.49YELLOW;0.46THREE*GREEN;0.42ONE*YELLOW;0.40FOUR*TRIANGLE;0.36SHAPE*CIRCLE;0.35STAR;0.35SHAPE*PLUS;0.35COLOUR*BLUE;0.33NUMBER*SHAPE;0.33ONE*RED;0.31NUMBER*GREEN;0.30TRIANGLE*RED;0.30THREE*COLOUR;0.29COLOUR*YELLOW;0.29SHAPE*RED;0.27THREE*TRIANGLE;0.27NUMBER*TRIANGLE;0.27BLUE;0.27THREE;0.27ONE*TWO;0.27ONE*STAR;0.27TRIANGLE*GREEN;0.25NUMBER;0.24GREEN*YELLOW;0.23TWO*GREEN;0.23PLUS;0.21SHAPE;0.21NUMBER*COLOUR;0.20ONE*THREE;0.20FOUR;0.19COLOUR*STAR;0.19FOUR*SHAPE;0.19ONE*PLUS;0.16COLOUR*PLUS;0.16FOUR*COLOUR;0.15TWO*FOUR;0.15ONE*CIRCLE;0.14GREEN*BLUE;0.14THREE*NUMBER;0.14TRIANGLE*YELLOW;0.11COLOUR*GREEN;0.11SHAPE*STAR\n",
        "0.157375956833\n",
        "0.150669975151\n",
        "0.42551161696\n",
        "0.0127622296209\n"
       ]
      }
     ],
     "prompt_number": 36
    },
    {
     "cell_type": "code",
     "collapsed": false,
     "input": [
      "vocab.text(~(trial_card*T))\n",
      "green_row_1.compare(trial_card)\n",
      "green_row_1.compare(blue_option)"
     ],
     "language": "python",
     "metadata": {},
     "outputs": [
      {
       "metadata": {},
       "output_type": "pyout",
       "prompt_number": 18,
       "text": [
        "-0.02125495658581612"
       ]
      }
     ],
     "prompt_number": 18
    },
    {
     "cell_type": "code",
     "collapsed": false,
     "input": [
      "# when I add vectors together, I'm emphasizing what they have in common\n",
      "# can I just check the similarity between that super-imposed vector and the options?"
     ],
     "language": "python",
     "metadata": {},
     "outputs": [],
     "prompt_number": 23
    },
    {
     "cell_type": "code",
     "collapsed": false,
     "input": [
      "vocab.text((green_row_1+green_row_2+green_row_3)*~vocab.parse(\"COLOUR\"))"
     ],
     "language": "python",
     "metadata": {},
     "outputs": [
      {
       "metadata": {},
       "output_type": "pyout",
       "prompt_number": 27,
       "text": [
        "'2.64GREEN;1.95PLUS;1.69TRIANGLE;1.08STAR;0.87COLOUR;0.38BLUE;0.23YELLOW'"
       ]
      }
     ],
     "prompt_number": 27
    },
    {
     "cell_type": "code",
     "collapsed": false,
     "input": [
      "vocab.text(green_row_1+green_row_2+green_row_3)"
     ],
     "language": "python",
     "metadata": {},
     "outputs": [
      {
       "metadata": {},
       "output_type": "pyout",
       "prompt_number": 19,
       "text": [
        "'3.19COLOUR*GREEN;1.56ONE*NUMBER;1.20THREE*NUMBER;1.17SHAPE*PLUS;0.95SHAPE*STAR;0.87CIRCLE;0.78SHAPE*GREEN;0.75SHAPE*TRIANGLE;0.69TWO*NUMBER;0.66COLOUR;0.65TRIANGLE*COLOUR;0.58THREE*GREEN;0.56ONE*PLUS;0.51COLOUR*RED;0.49CIRCLE*BLUE;0.49FOUR*BLUE;0.49TRIANGLE*CIRCLE;0.46ONE*GREEN;0.43THREE*RED;0.42STAR*CIRCLE;0.42NUMBER;0.41TRIANGLE*BLUE;0.39TRIANGLE*STAR;0.34COLOUR*PLUS;0.33NUMBER*YELLOW;0.32THREE*SHAPE;0.31COLOUR*YELLOW;0.28NUMBER*RED;0.26TWO*THREE;0.26ONE*FOUR;0.26THREE*PLUS;0.25TRIANGLE;0.24PLUS*YELLOW;0.22BLUE;0.21GREEN*PLUS;0.20YELLOW*CIRCLE;0.20SHAPE*YELLOW;0.17SHAPE;0.16CIRCLE*RED;0.14NUMBER*TRIANGLE;0.14GREEN*BLUE;0.14NUMBER*PLUS;0.14FOUR*STAR;0.13RED*BLUE;0.13TRIANGLE*PLUS;0.13ONE*THREE;0.13FOUR;0.13THREE*STAR;0.11FOUR*COLOUR'"
       ]
      }
     ],
     "prompt_number": 19
    },
    {
     "cell_type": "code",
     "collapsed": false,
     "input": [
      "vocab.text(green_row_1)"
     ],
     "language": "python",
     "metadata": {},
     "outputs": [
      {
       "metadata": {},
       "output_type": "pyout",
       "prompt_number": 18,
       "text": [
        "'1.16COLOUR*GREEN;1.11ONE*NUMBER;1.03SHAPE*TRIANGLE;0.35TRIANGLE*CIRCLE;0.34TRIANGLE*COLOUR;0.34COLOUR;0.32SHAPE*GREEN;0.31FOUR*BLUE;0.31CIRCLE;0.28NUMBER*YELLOW;0.28COLOUR*YELLOW;0.28THREE*RED;0.25TRIANGLE*BLUE;0.25TRIANGLE*STAR;0.24TWO*YELLOW;0.22SHAPE;0.22COLOUR*PLUS;0.21CIRCLE*BLUE;0.21THREE;0.21ONE*TWO;0.20THREE*GREEN;0.20ONE*PLUS;0.20THREE*PLUS;0.20TRIANGLE;0.19ONE*GREEN;0.19COLOUR*RED;0.18PLUS*YELLOW;0.17THREE*SHAPE;0.15FOUR*PLUS;0.14GREEN*BLUE;0.14GREEN*YELLOW;0.13NUMBER;0.13SHAPE*RED;0.12CIRCLE*RED;0.12GREEN*STAR;0.12BLUE;0.11NUMBER*STAR;0.10FOUR*SHAPE;0.10YELLOW*BLUE;0.10NUMBER*TRIANGLE'"
       ]
      }
     ],
     "prompt_number": 18
    },
    {
     "cell_type": "code",
     "collapsed": false,
     "input": [
      "tmp = vocab.parse(\"GREEN+ONE+PLUS\")\n",
      "vocab.text(tmp)"
     ],
     "language": "python",
     "metadata": {},
     "outputs": [
      {
       "metadata": {},
       "output_type": "pyout",
       "prompt_number": 13,
       "text": [
        "'0.96GREEN;0.80ONE;0.74PLUS'"
       ]
      }
     ],
     "prompt_number": 13
    },
    {
     "cell_type": "code",
     "collapsed": false,
     "input": [
      "# Okay, the next thing I have to figure out is how the bandit task should be used for switching between rules."
     ],
     "language": "python",
     "metadata": {},
     "outputs": [],
     "prompt_number": 37
    },
    {
     "cell_type": "code",
     "collapsed": false,
     "input": [],
     "language": "python",
     "metadata": {},
     "outputs": []
    }
   ],
   "metadata": {}
  }
 ]
}