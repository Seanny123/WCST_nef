{
 "metadata": {
  "name": "",
  "signature": "sha256:81c494231ee7d3075dffe7d0dfec74930f9f5477a5c50dc5239b49d60a757ef0"
 },
 "nbformat": 3,
 "nbformat_minor": 0,
 "worksheets": [
  {
   "cells": [
    {
     "cell_type": "code",
     "collapsed": false,
     "input": [],
     "language": "python",
     "metadata": {},
     "outputs": []
    }
   ],
   "metadata": {}
  }
 ]
}