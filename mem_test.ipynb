{
 "metadata": {
  "name": "",
  "signature": "sha256:81c494231ee7d3075dffe7d0dfec74930f9f5477a5c50dc5239b49d60a757ef0"
 },
 "nbformat": 3,
 "nbformat_minor": 0,
 "worksheets": [
  {
   "cells": [
    {
     "cell_type": "code",
     "collapsed": false,
     "input": [
      "import nengo\n",
      "from nengo.utils.functions import piecewise\n",
      "\n",
      "with nengo.Network(label=\"mem\") as model:\n",
      "    input = nengo.Node(piecewise({0:[1,1], 0.5:[2,2], 1:[-1,-1]}))\n",
      "    gate = nengo.Node(piecewise({0:0, 0.5:1, 1:0}))\n",
      "    mem = nengo.networks.workingmemory.InputGatedMemory(100, 2)\n",
      "    \n",
      "    nengo.Connection(input, mem.input)\n",
      "    nengo.Connection(gate, mem.gate)\n",
      "    \n",
      "    out_probe = nengo.Probe(mem.output)\n",
      "    in_probe = nengo.Probe(input)"
     ],
     "language": "python",
     "metadata": {},
     "outputs": [],
     "prompt_number": 5
    },
    {
     "cell_type": "code",
     "collapsed": false,
     "input": [
      "sim = nengo.Simulator(model)\n",
      "sim.run(2)"
     ],
     "language": "python",
     "metadata": {},
     "outputs": [
      {
       "output_type": "stream",
       "stream": "stdout",
       "text": [
        "\r",
        "[#                             3%                              ] ETA: 0:00:04"
       ]
      },
      {
       "output_type": "stream",
       "stream": "stdout",
       "text": [
        "\r",
        "[###                           5%                              ] ETA: 0:00:04"
       ]
      },
      {
       "output_type": "stream",
       "stream": "stdout",
       "text": [
        "\r",
        "[####                          7%                              ] ETA: 0:00:03"
       ]
      },
      {
       "output_type": "stream",
       "stream": "stdout",
       "text": [
        "\r",
        "[######                       10%                              ] ETA: 0:00:03"
       ]
      },
      {
       "output_type": "stream",
       "stream": "stdout",
       "text": [
        "\r",
        "[#######                      12%                              ] ETA: 0:00:03"
       ]
      },
      {
       "output_type": "stream",
       "stream": "stdout",
       "text": [
        "\r",
        "[########                     14%                              ] ETA: 0:00:03"
       ]
      },
      {
       "output_type": "stream",
       "stream": "stdout",
       "text": [
        "\r",
        "[##########                   16%                              ] ETA: 0:00:03"
       ]
      },
      {
       "output_type": "stream",
       "stream": "stdout",
       "text": [
        "\r",
        "[###########                  18%                              ] ETA: 0:00:03"
       ]
      },
      {
       "output_type": "stream",
       "stream": "stdout",
       "text": [
        "\r",
        "[#############                21%                              ] ETA: 0:00:02"
       ]
      },
      {
       "output_type": "stream",
       "stream": "stdout",
       "text": [
        "\r",
        "[##############               23%                              ] ETA: 0:00:02"
       ]
      },
      {
       "output_type": "stream",
       "stream": "stdout",
       "text": [
        "\r",
        "[################             25%                              ] ETA: 0:00:02"
       ]
      },
      {
       "output_type": "stream",
       "stream": "stdout",
       "text": [
        "\r",
        "[#################            28%                              ] ETA: 0:00:02"
       ]
      },
      {
       "output_type": "stream",
       "stream": "stdout",
       "text": [
        "\r",
        "[###################          30%                              ] ETA: 0:00:02"
       ]
      },
      {
       "output_type": "stream",
       "stream": "stdout",
       "text": [
        "\r",
        "[####################         33%                              ] ETA: 0:00:02"
       ]
      },
      {
       "output_type": "stream",
       "stream": "stdout",
       "text": [
        "\r",
        "[#####################        34%                              ] ETA: 0:00:02"
       ]
      },
      {
       "output_type": "stream",
       "stream": "stdout",
       "text": [
        "\r",
        "[######################       36%                              ] ETA: 0:00:02"
       ]
      },
      {
       "output_type": "stream",
       "stream": "stdout",
       "text": [
        "\r",
        "[#######################      38%                              ] ETA: 0:00:02"
       ]
      },
      {
       "output_type": "stream",
       "stream": "stdout",
       "text": [
        "\r",
        "[########################     40%                              ] ETA: 0:00:02"
       ]
      },
      {
       "output_type": "stream",
       "stream": "stdout",
       "text": [
        "\r",
        "[##########################   42%                              ] ETA: 0:00:02"
       ]
      },
      {
       "output_type": "stream",
       "stream": "stdout",
       "text": [
        "\r",
        "[###########################  44%                              ] ETA: 0:00:02"
       ]
      },
      {
       "output_type": "stream",
       "stream": "stdout",
       "text": [
        "\r",
        "[############################ 46%                              ] ETA: 0:00:02"
       ]
      },
      {
       "output_type": "stream",
       "stream": "stdout",
       "text": [
        "\r",
        "[############################ 47%                              ] ETA: 0:00:02"
       ]
      },
      {
       "output_type": "stream",
       "stream": "stdout",
       "text": [
        "\r",
        "[############################ 49%                              ] ETA: 0:00:02"
       ]
      },
      {
       "output_type": "stream",
       "stream": "stdout",
       "text": [
        "\r",
        "[############################ 52%                              ] ETA: 0:00:02"
       ]
      },
      {
       "output_type": "stream",
       "stream": "stdout",
       "text": [
        "\r",
        "[############################ 54%                              ] ETA: 0:00:02"
       ]
      },
      {
       "output_type": "stream",
       "stream": "stdout",
       "text": [
        "\r",
        "[############################ 56% ##                           ] ETA: 0:00:02"
       ]
      },
      {
       "output_type": "stream",
       "stream": "stdout",
       "text": [
        "\r",
        "[############################ 59% ####                         ] ETA: 0:00:01"
       ]
      },
      {
       "output_type": "stream",
       "stream": "stdout",
       "text": [
        "\r",
        "[############################ 60% ####                         ] ETA: 0:00:01"
       ]
      },
      {
       "output_type": "stream",
       "stream": "stdout",
       "text": [
        "\r",
        "[############################ 63% ######                       ] ETA: 0:00:01"
       ]
      },
      {
       "output_type": "stream",
       "stream": "stdout",
       "text": [
        "\r",
        "[############################ 64% #######                      ] ETA: 0:00:01"
       ]
      },
      {
       "output_type": "stream",
       "stream": "stdout",
       "text": [
        "\r",
        "[############################ 66% ########                     ] ETA: 0:00:01"
       ]
      },
      {
       "output_type": "stream",
       "stream": "stdout",
       "text": [
        "\r",
        "[############################ 68% #########                    ] ETA: 0:00:01"
       ]
      },
      {
       "output_type": "stream",
       "stream": "stdout",
       "text": [
        "\r",
        "[############################ 71% ###########                  ] ETA: 0:00:01"
       ]
      },
      {
       "output_type": "stream",
       "stream": "stdout",
       "text": [
        "\r",
        "[############################ 72% ############                 ] ETA: 0:00:01"
       ]
      },
      {
       "output_type": "stream",
       "stream": "stdout",
       "text": [
        "\r",
        "[############################ 75% #############                ] ETA: 0:00:01"
       ]
      },
      {
       "output_type": "stream",
       "stream": "stdout",
       "text": [
        "\r",
        "[############################ 77% ###############              ] ETA: 0:00:01"
       ]
      },
      {
       "output_type": "stream",
       "stream": "stdout",
       "text": [
        "\r",
        "[############################ 79% ################             ] ETA: 0:00:01"
       ]
      },
      {
       "output_type": "stream",
       "stream": "stdout",
       "text": [
        "\r",
        "[############################ 81% #################            ] ETA: 0:00:01"
       ]
      },
      {
       "output_type": "stream",
       "stream": "stdout",
       "text": [
        "\r",
        "[############################ 83% ##################           ] ETA: 0:00:01"
       ]
      },
      {
       "output_type": "stream",
       "stream": "stdout",
       "text": [
        "\r",
        "[############################ 86% ####################         ] ETA: 0:00:01"
       ]
      },
      {
       "output_type": "stream",
       "stream": "stdout",
       "text": [
        "\r",
        "[############################ 88% #####################        ] ETA: 0:00:01"
       ]
      },
      {
       "output_type": "stream",
       "stream": "stdout",
       "text": [
        "\r",
        "[############################ 89% ######################       ] ETA: 0:00:01"
       ]
      },
      {
       "output_type": "stream",
       "stream": "stdout",
       "text": [
        "\r",
        "[############################ 91% #######################      ] ETA: 0:00:01"
       ]
      },
      {
       "output_type": "stream",
       "stream": "stdout",
       "text": [
        "\r",
        "[############################ 93% #########################    ] ETA: 0:00:01"
       ]
      },
      {
       "output_type": "stream",
       "stream": "stdout",
       "text": [
        "\r",
        "[############################ 95% ##########################   ] ETA: 0:00:01"
       ]
      },
      {
       "output_type": "stream",
       "stream": "stdout",
       "text": [
        "\r",
        "[############################ 97% ###########################  ] ETA: 0:00:01"
       ]
      },
      {
       "output_type": "stream",
       "stream": "stdout",
       "text": [
        "\r",
        "[############################ 99% ############################ ] ETA: 0:00:01"
       ]
      },
      {
       "output_type": "stream",
       "stream": "stdout",
       "text": [
        "\r",
        "Simulation finished in 0:00:03.                                                 \n"
       ]
      }
     ],
     "prompt_number": 6
    },
    {
     "cell_type": "code",
     "collapsed": false,
     "input": [
      "%matplotlib inline\n",
      "import matplotlib.pyplot as plt\n",
      "plt.figure()\n",
      "plt.plot(sim.trange(), sim.data[in_probe], label=\"input\")\n",
      "plt.plot(sim.trange(), sim.data[out_probe], label=\"output\")"
     ],
     "language": "python",
     "metadata": {},
     "outputs": [
      {
       "metadata": {},
       "output_type": "pyout",
       "prompt_number": 7,
       "text": [
        "[<matplotlib.lines.Line2D at 0x7fa0ae1b5f50>,\n",
        " <matplotlib.lines.Line2D at 0x7fa0ae15dfd0>]"
       ]
      },
      {
       "metadata": {},
       "output_type": "display_data",
       "png": "[encoded data removed]",
       "text": [
        "<matplotlib.figure.Figure at 0x7fa0b0162910>"
       ]
      }
     ],
     "prompt_number": 7
    },
    {
     "cell_type": "code",
     "collapsed": false,
     "input": [
      "import nengo.spa\n",
      "import nengo\n",
      "from nengo.utils.functions import piecewise\n",
      "\n",
      "# set up the vocab\n",
      "# similarity taken from RPM\n",
      "# dimensions found by trial and error\n",
      "vocab_d = 128\n",
      "vocab = nengo.spa.Vocabulary(vocab_d, max_similarity=0.1, unitary=[\"ONE\"], include_pairs=True)\n",
      "\n",
      "tmp = vocab.parse(\"ONE\")\n",
      "vocab.add(\"TWO\", vocab.parse(\"ONE*ONE\"))\n",
      "vocab.add(\"THREE\", vocab.parse(\"ONE*TWO\"))\n",
      "vocab.add(\"FOUR\", vocab.parse(\"ONE*THREE\"))\n",
      "\n",
      "# test repeating attributes later\n",
      "green_row_1 = vocab.parse(\"NUMBER*ONE + SHAPE*TRIANGLE + COLOUR*GREEN\")\n",
      "green_row_2 = vocab.parse(\"NUMBER*TWO + SHAPE*PLUS + COLOUR*GREEN\")\n",
      "green_row_3 = vocab.parse(\"NUMBER*THREE + SHAPE*STAR + COLOUR*GREEN\")\n",
      "# test swapping rules later\n",
      "yellow_row_1 = vocab.parse(\"NUMBER*ONE + SHAPE*TRIANGLE + COLOUR*YELLOW\")\n",
      "yellow_row_2 = vocab.parse(\"NUMBER*TWO + SHAPE*PLUS + COLOUR*YELLOW\")\n",
      "yellow_row_3 = vocab.parse(\"NUMBER*THREE + SHAPE*STAR + COLOUR*YELLOW\")\n",
      "\n",
      "trial_card = vocab.parse(\"NUMBER*ONE + SHAPE*CIRCLE + COLOUR*GREEN\")"
     ],
     "language": "python",
     "metadata": {},
     "outputs": [],
     "prompt_number": 6
    },
    {
     "cell_type": "code",
     "collapsed": false,
     "input": [
      "import numpy as np\n",
      "\n",
      "# make the inputs\n",
      "input_list = [green_row_2*~(green_row_1), green_row_3*~(green_row_2), yellow_row_2*~(yellow_row_1)]\n",
      "learn_dict = {0: np.zeros(vocab_d)}\n",
      "for idx, i in enumerate(input_list):\n",
      "    learn_dict[0.2*(1+idx)] = i.v/(idx+1)\n",
      "\n",
      "trial_dict = {0.0:trial_card.v}"
     ],
     "language": "python",
     "metadata": {},
     "outputs": [],
     "prompt_number": 7
    },
    {
     "cell_type": "code",
     "collapsed": false,
     "input": [
      "from eval_net import eval_net\n",
      "from transform_net import transform_net\n",
      "\n",
      "model = nengo.spa.SPA(label=\"transform test\", seed=0)\n",
      "\n",
      "# direct neurons to start\n",
      "direct = False\n",
      "if(direct ==  True):\n",
      "    # Because setting them all to 1 has weird effects\n",
      "    model.config[nengo.Ensemble].neuron_type = nengo.Direct()\n",
      "    p_neurons = 5\n",
      "    e_neurons = 5\n",
      "    i_neurons = 5\n",
      "    m_neurons = 5\n",
      "    c_neurons = 10\n",
      "else:\n",
      "    p_neurons = 50\n",
      "    e_neurons = 25\n",
      "    i_neurons = 50\n",
      "    m_neurons = 50\n",
      "    c_neurons = 50*vocab_d # according to Xuan's heuristic\n",
      "    \n",
      "with model:\n",
      "    input = nengo.Node(piecewise(learn_dict))\n",
      "    trial = nengo.Node(piecewise(trial_dict))\n",
      "    e_n = eval_net(p_neurons, e_neurons, vocab_d, vocab)\n",
      "    t_n = transform_net(i_neurons, m_neurons, vocab_d, input_scale=0.4, forget_rate=0.2, step_size=0.2, diff_gain=1.0)\n",
      "    cconv = nengo.networks.CircularConvolution(c_neurons, vocab_d)\n",
      "    \n",
      "    nengo.Connection(input, t_n.mem_input.input, synapse=None)\n",
      "    nengo.Connection(t_n.transform.output, cconv.A)\n",
      "    nengo.Connection(trial, cconv.B)\n",
      "    nengo.Connection(cconv.output, e_n.input)\n",
      "    \n",
      "    output_probe = nengo.Probe(e_n.output, synapse=0.01)"
     ],
     "language": "python",
     "metadata": {},
     "outputs": [],
     "prompt_number": 11
    },
    {
     "cell_type": "code",
     "collapsed": false,
     "input": [
      "sim = nengo.Simulator(model)\n",
      "sim.run(0.2*(len(input_list)+1)*2)"
     ],
     "language": "python",
     "metadata": {},
     "outputs": [],
     "prompt_number": "*"
    },
    {
     "cell_type": "code",
     "collapsed": false,
     "input": [
      "import matplotlib.pyplot as plt\n",
      "%matplotlib inline\n",
      "\n",
      "fig = plt.figure()\n",
      "plt.plot(sim.trange(), sim.data[output_probe])\n",
      "plt.legend([\"red\",\"green\",\"yellow\",\"blue\"])"
     ],
     "language": "python",
     "metadata": {},
     "outputs": [
      {
       "metadata": {},
       "output_type": "pyout",
       "prompt_number": 10,
       "text": [
        "<matplotlib.legend.Legend at 0x7fb4262f0ad0>"
       ]
      },
      {
       "metadata": {},
       "output_type": "display_data",
       "png": "[encoded data removed]",
       "text": [
        "<matplotlib.figure.Figure at 0x7fb42c473390>"
       ]
      }
     ],
     "prompt_number": 10
    },
    {
     "cell_type": "code",
     "collapsed": false,
     "input": [],
     "language": "python",
     "metadata": {},
     "outputs": []
    }
   ],
   "metadata": {}
  }
 ]
}