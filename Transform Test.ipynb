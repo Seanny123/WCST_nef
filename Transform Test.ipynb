{
 "metadata": {
  "name": "",
  "signature": "sha256:ce3a29942c559ddb26b7981250ea2270eb365cbb191ba7cebedcd60fab3efe62"
 },
 "nbformat": 3,
 "nbformat_minor": 0,
 "worksheets": [
  {
   "cells": [
    {
     "cell_type": "code",
     "collapsed": false,
     "input": [
      "import nengo.spa\n",
      "\n",
      "# set up the vocab\n",
      "# dimensions and similarity taken from RPM\n",
      "vocab = nengo.spa.Vocabulary(128, max_similarity=0.1, unitary=[\"ONE\"], include_pairs=True)\n",
      "\n",
      "tmp = vocab.parse(\"ONE\")\n",
      "vocab.add(\"TWO\", vocab.parse(\"ONE*ONE\"))\n",
      "vocab.add(\"THREE\", vocab.parse(\"ONE*TWO\"))\n",
      "vocab.add(\"FOUR\", vocab.parse(\"ONE*THREE\"))\n",
      "\n",
      "# test repeating attributes later\n",
      "green_row_1 = vocab.parse(\"NUMBER*ONE + SHAPE*TRIANGLE + COLOUR*GREEN\")\n",
      "green_row_2 = vocab.parse(\"NUMBER*TWO + SHAPE*PLUS + COLOUR*GREEN\")\n",
      "green_row_3 = vocab.parse(\"NUMBER*THREE + SHAPE*STAR + COLOUR*GREEN\")\n",
      "# test swapping rules later\n",
      "yellow_row_1 = vocab.parse(\"NUMBER*ONE + SHAPE*TRIANGLE + COLOUR*YELLOW\")\n",
      "yellow_row_2 = vocab.parse(\"NUMBER*TWO + SHAPE*PLUS + COLOUR*YELLOW\")\n",
      "yellow_row_3 = vocab.parse(\"NUMBER*THREE + SHAPE*STAR + COLOUR*YELLOW\")\n",
      "\n",
      "# test more varied options later\n",
      "green_option = vocab.parse(\"NUMBER*ONE + SHAPE*TRIANGLE + COLOUR*GREEN\")\n",
      "red_option = vocab.parse(\"NUMBER*TWO + SHAPE*STAR + COLOUR*RED\")\n",
      "yellow_option = vocab.parse(\"NUMBER*THREE + SHAPE*PLUS + COLOUR*YELLOW\")\n",
      "blue_option = vocab.parse(\"NUMBER*FOUR + SHAPE*CIRCLE + COLOUR*BLUE\")"
     ],
     "language": "python",
     "metadata": {},
     "outputs": [],
     "prompt_number": 9
    },
    {
     "cell_type": "code",
     "collapsed": false,
     "input": [
      "# okay let's try getting a rule that's basically says use the same colour\n",
      "T = vocab.parse('0')\n",
      "T += green_row_2*~(green_row_1)\n",
      "T += green_row_3*~(green_row_2)\n",
      "T += yellow_row_2*~(yellow_row_1)\n",
      "T.normalize()\n",
      "\n",
      "# so every pair is basically a row in what would usually be the matrix\n",
      "trial_card = vocab.parse(\"NUMBER*TWO + SHAPE*CIRCLE + COLOUR*GREEN\")\n",
      "\n",
      "print(vocab.text(trial_card*T))\n",
      "print()\n",
      "print(vocab.text(trial_card*vocab.parse('GREEN*RED')))\n",
      "print((trial_card*T).compare(green_option))\n",
      "print((trial_card*T).compare(yellow_option))\n",
      "print((trial_card*T).compare(red_option))\n",
      "print((trial_card*T).compare(blue_option))"
     ],
     "language": "python",
     "metadata": {},
     "outputs": [
      {
       "output_type": "stream",
       "stream": "stdout",
       "text": [
        "0.37SHAPE*TRIANGLE;0.34GREEN*STAR;0.33NUMBER*COLOUR;0.31ONE;0.31PLUS*STAR;0.25SHAPE*GREEN;0.23YELLOW*RED;0.23NUMBER*BLUE;0.22NUMBER*RED;0.21ONE*THREE;0.21FOUR;0.18STAR*CIRCLE;0.17THREE*BLUE;0.17GREEN*CIRCLE;0.17ONE*STAR;0.16COLOUR*YELLOW;0.15CIRCLE*BLUE;0.14SHAPE*CIRCLE;0.13TWO*FOUR;0.11THREE;0.11ONE*TWO;0.11TRIANGLE*BLUE;0.10STAR*YELLOW\n",
        "()\n",
        "1.38COLOUR*GREEN;1.16THREE*NUMBER;0.80COLOUR*PLUS;0.75FOUR*STAR;0.72TRIANGLE*COLOUR;0.71COLOUR*CIRCLE;0.57NUMBER*STAR;0.54PLUS*RED;0.51SHAPE*PLUS;0.49TWO*NUMBER;0.48NUMBER;0.46STAR*YELLOW;0.46TRIANGLE*PLUS;0.43SHAPE*STAR;0.41NUMBER*CIRCLE;0.39NUMBER*TRIANGLE;0.38THREE*TRIANGLE;0.37PLUS*STAR;0.35CIRCLE;0.34SHAPE*RED;0.32ONE*RED;0.28GREEN*RED;0.27FOUR*BLUE;0.27TRIANGLE*RED;0.26ONE*COLOUR;0.25TWO*PLUS;0.24RED*BLUE;0.22STAR*BLUE;0.22THREE*CIRCLE;0.21SHAPE*CIRCLE;0.21NUMBER*YELLOW;0.20TWO*CIRCLE;0.20ONE*TRIANGLE;0.18GREEN;0.18FOUR*GREEN;0.17THREE*YELLOW;0.16COLOUR*YELLOW;0.13TWO*COLOUR;0.13ONE*STAR;0.12RED*CIRCLE;0.11TRIANGLE*CIRCLE\n",
        "()\n",
        "0.67NUMBER*SHAPE;0.59SHAPE*COLOUR;0.42TWO*NUMBER;0.40NUMBER*TRIANGLE;0.37BLUE;0.33THREE*BLUE;0.32FOUR*NUMBER;0.30TWO*COLOUR;0.27COLOUR*PLUS;0.27TWO*GREEN;0.26PLUS*STAR;0.25PLUS*RED;0.22TWO*RED;0.21ONE*COLOUR;0.21NUMBER*GREEN;0.20GREEN;0.20FOUR*COLOUR;0.20NUMBER*BLUE;0.19CIRCLE;0.19ONE*GREEN;0.18THREE*GREEN;0.17COLOUR*GREEN;0.17FOUR*STAR;0.15STAR;0.15TRIANGLE*COLOUR;0.15YELLOW*CIRCLE;0.15RED;0.14THREE*COLOUR;0.14THREE*NUMBER;0.13GREEN*YELLOW;0.13TRIANGLE*YELLOW;0.12COLOUR*STAR;0.12FOUR*GREEN;0.12SHAPE*CIRCLE;0.11COLOUR*BLUE\n",
        "0.261602138895\n",
        "0.339936455429\n",
        "0.18169179441\n",
        "-0.0590309652348\n"
       ]
      }
     ],
     "prompt_number": 14
    },
    {
     "cell_type": "code",
     "collapsed": false,
     "input": [
      "trial_card = vocab.parse(\"NUMBER*ONE + SHAPE*CIRCLE + COLOUR*YELLOW\")\n",
      "#WHY THE HELL DOES THIS WORK?\n",
      "print(vocab.text(trial_card*T))\n",
      "print()\n",
      "print(vocab.text(trial_card*vocab.parse('GREEN*RED')))\n",
      "print((trial_card*T).compare(green_option))\n",
      "print((trial_card*vocab.parse('ONE')).compare(green_option))\n",
      "print((trial_card*T).compare(yellow_option))\n",
      "print((trial_card*vocab.parse('ONE')).compare(yellow_option))\n",
      "print((trial_card*T).compare(red_option))\n",
      "print((trial_card*vocab.parse('ONE')).compare(red_option))\n",
      "print((trial_card*T).compare(blue_option))\n",
      "\n",
      "# If it works with three entries per row, then try to make the rule learning a weirder operation that looks for similar rules to strengthen?\n",
      "# That kind of sounds like a clean-up memory"
     ],
     "language": "python",
     "metadata": {},
     "outputs": [
      {
       "output_type": "stream",
       "stream": "stdout",
       "text": [
        "0.80TWO*NUMBER;0.73COLOUR*YELLOW;0.70SHAPE*CIRCLE;0.67SHAPE*TRIANGLE;0.61SHAPE*PLUS;0.50GREEN*YELLOW;0.45CIRCLE*BLUE;0.45FOUR*STAR;0.44THREE*STAR;0.42ONE*STAR;0.36COLOUR*PLUS;0.34YELLOW*RED;0.33NUMBER*SHAPE;0.32TRIANGLE*GREEN;0.30RED;0.30TWO*CIRCLE;0.28THREE*RED;0.28NUMBER*GREEN;0.27FOUR*COLOUR;0.27STAR;0.27TRIANGLE*COLOUR;0.26COLOUR*GREEN;0.25FOUR*NUMBER;0.24NUMBER*YELLOW;0.23NUMBER*TRIANGLE;0.23ONE*YELLOW;0.22TRIANGLE*PLUS;0.22ONE*COLOUR;0.21NUMBER*BLUE;0.21STAR*CIRCLE;0.20RED*CIRCLE;0.20NUMBER*STAR;0.20PLUS*YELLOW;0.20COLOUR*CIRCLE;0.20TRIANGLE*BLUE;0.16THREE*COLOUR;0.15YELLOW*CIRCLE;0.14TWO*TRIANGLE;0.14TWO*FOUR;0.14SHAPE*RED;0.13STAR*YELLOW;0.13ONE*NUMBER;0.13PLUS*STAR;0.13THREE*GREEN;0.12ONE*THREE;0.12FOUR;0.12GREEN;0.10TWO*YELLOW\n",
        "()\n",
        "0.54THREE*NUMBER;0.44NUMBER*SHAPE;0.42TWO*GREEN;0.39NUMBER*RED;0.35STAR*BLUE;0.30PLUS*CIRCLE;0.26ONE*NUMBER;0.26THREE*FOUR;0.25NUMBER*TRIANGLE;0.24NUMBER*PLUS;0.23SHAPE*COLOUR;0.23TWO*YELLOW;0.23ONE*GREEN;0.20TWO*BLUE;0.20TRIANGLE*GREEN;0.19STAR*YELLOW;0.19TRIANGLE*STAR;0.19YELLOW*BLUE;0.18FOUR*COLOUR;0.18ONE*RED;0.18FOUR*TRIANGLE;0.17GREEN*CIRCLE;0.15FOUR*GREEN;0.15COLOUR*PLUS;0.14ONE*YELLOW;0.14SHAPE*STAR;0.13THREE*GREEN;0.13GREEN*PLUS;0.12NUMBER*BLUE;0.12THREE*COLOUR;0.12ONE*TRIANGLE;0.11RED*BLUE;0.11FOUR*NUMBER;0.10TWO*SHAPE\n",
        "0.274839679608\n",
        "0.0540371407657\n",
        "0.295919399914\n",
        "-0.0429812320022\n",
        "0.0103221054989\n",
        "0.347144765782\n",
        "0.203700492085\n"
       ]
      }
     ],
     "prompt_number": 13
    },
    {
     "cell_type": "code",
     "collapsed": false,
     "input": [
      "# when I add vectors together, I'm emphasizing what they have in common\n",
      "# can I just check the similarity between that super-imposed vector and the options?"
     ],
     "language": "python",
     "metadata": {},
     "outputs": [],
     "prompt_number": 23
    },
    {
     "cell_type": "code",
     "collapsed": false,
     "input": [
      "vocab.text((green_row_1+green_row_2+green_row_3)*~vocab.parse(\"COLOUR\"))"
     ],
     "language": "python",
     "metadata": {},
     "outputs": [
      {
       "metadata": {},
       "output_type": "pyout",
       "prompt_number": 27,
       "text": [
        "'2.64GREEN;1.95PLUS;1.69TRIANGLE;1.08STAR;0.87COLOUR;0.38BLUE;0.23YELLOW'"
       ]
      }
     ],
     "prompt_number": 27
    },
    {
     "cell_type": "code",
     "collapsed": false,
     "input": [
      "vocab.text(green_row_1+green_row_2+green_row_3)"
     ],
     "language": "python",
     "metadata": {},
     "outputs": [
      {
       "metadata": {},
       "output_type": "pyout",
       "prompt_number": 19,
       "text": [
        "'3.19COLOUR*GREEN;1.56ONE*NUMBER;1.20THREE*NUMBER;1.17SHAPE*PLUS;0.95SHAPE*STAR;0.87CIRCLE;0.78SHAPE*GREEN;0.75SHAPE*TRIANGLE;0.69TWO*NUMBER;0.66COLOUR;0.65TRIANGLE*COLOUR;0.58THREE*GREEN;0.56ONE*PLUS;0.51COLOUR*RED;0.49CIRCLE*BLUE;0.49FOUR*BLUE;0.49TRIANGLE*CIRCLE;0.46ONE*GREEN;0.43THREE*RED;0.42STAR*CIRCLE;0.42NUMBER;0.41TRIANGLE*BLUE;0.39TRIANGLE*STAR;0.34COLOUR*PLUS;0.33NUMBER*YELLOW;0.32THREE*SHAPE;0.31COLOUR*YELLOW;0.28NUMBER*RED;0.26TWO*THREE;0.26ONE*FOUR;0.26THREE*PLUS;0.25TRIANGLE;0.24PLUS*YELLOW;0.22BLUE;0.21GREEN*PLUS;0.20YELLOW*CIRCLE;0.20SHAPE*YELLOW;0.17SHAPE;0.16CIRCLE*RED;0.14NUMBER*TRIANGLE;0.14GREEN*BLUE;0.14NUMBER*PLUS;0.14FOUR*STAR;0.13RED*BLUE;0.13TRIANGLE*PLUS;0.13ONE*THREE;0.13FOUR;0.13THREE*STAR;0.11FOUR*COLOUR'"
       ]
      }
     ],
     "prompt_number": 19
    },
    {
     "cell_type": "code",
     "collapsed": false,
     "input": [
      "import nengo.spa\n",
      "\n",
      "# set up the vocab\n",
      "# dimensions and similarity taken from RPM\n",
      "vocab = nengo.spa.Vocabulary(128, max_similarity=0.1, unitary=[\"ONE\"], include_pairs=True)\n",
      "\n",
      "tmp = vocab.parse(\"ONE\")\n",
      "vocab.add(\"TWO\", vocab.parse(\"ONE*ONE\"))\n",
      "vocab.add(\"THREE\", vocab.parse(\"ONE*TWO\"))\n",
      "vocab.add(\"FOUR\", vocab.parse(\"ONE*THREE\"))\n",
      "\n",
      "# test repeating attributes later\n",
      "green_row_1 = vocab.parse(\"NUMBER*ONE + SHAPE*TRIANGLE + COLOUR*GREEN\")\n",
      "green_row_2 = vocab.parse(\"NUMBER*TWO + SHAPE*PLUS + COLOUR*GREEN\")\n",
      "green_row_3 = vocab.parse(\"NUMBER*THREE + SHAPE*STAR + COLOUR*GREEN\")\n",
      "# test swapping rules later\n",
      "yellow_row_1 = vocab.parse(\"NUMBER*ONE + SHAPE*TRIANGLE + COLOUR*YELLOW\")\n",
      "yellow_row_2 = vocab.parse(\"NUMBER*TWO + SHAPE*PLUS + COLOUR*YELLOW\")\n",
      "yellow_row_3 = vocab.parse(\"NUMBER*THREE + SHAPE*STAR + COLOUR*YELLOW\")\n",
      "\n",
      "# test more varied options later\n",
      "green_option = vocab.parse(\"NUMBER*ONE + SHAPE*TRIANGLE + COLOUR*GREEN\")\n",
      "red_option = vocab.parse(\"NUMBER*TWO + SHAPE*STAR + COLOUR*RED\")\n",
      "yellow_option = vocab.parse(\"NUMBER*THREE + SHAPE*PLUS + COLOUR*YELLOW\")\n",
      "blue_option = vocab.parse(\"NUMBER*TWO + SHAPE*CIRCLE + COLOUR*BLUE\")"
     ],
     "language": "python",
     "metadata": {},
     "outputs": [],
     "prompt_number": 7
    },
    {
     "cell_type": "code",
     "collapsed": false,
     "input": [
      "# okay let's try getting a rule that's basically says use the same colour\n",
      "T1 = vocab.parse('0')\n",
      "T1 += green_row_2*~(green_row_1)\n",
      "T1 += green_row_3*~(green_row_2)\n",
      "T1 += yellow_row_2*~(yellow_row_1)\n",
      "T1.normalize()\n",
      "\n",
      "T2 = vocab.parse('0')\n",
      "T2 += yellow_row_2*~(yellow_row_1)\n",
      "T2 += yellow_row_3*~(yellow_row_2)\n",
      "T2 += green_row_2*~(green_row_1)\n",
      "T2.normalize()\n",
      "\n",
      "# so every pair is basically a row in what would usually be the matrix\n",
      "trial_card = vocab.parse(\"NUMBER*ONE + SHAPE*CIRCLE + COLOUR*GREEN\")\n",
      "\n",
      "# now test for similarity between the card and the options using the rule\n",
      "print(vocab.text(trial_card*T1))\n",
      "print()\n",
      "print(vocab.text(trial_card*vocab.parse('GREEN*RED')))\n",
      "print((trial_card*T1).compare(green_option))\n",
      "print((trial_card*T1).compare(yellow_option))\n",
      "print((trial_card*T1).compare(red_option))\n",
      "print((trial_card*T1).compare(blue_option))\n",
      "print(T1.compare(T2))"
     ],
     "language": "python",
     "metadata": {},
     "outputs": [
      {
       "output_type": "stream",
       "stream": "stdout",
       "text": [
        "1.08COLOUR*GREEN;0.52SHAPE*GREEN;0.50TWO*NUMBER;0.49YELLOW*CIRCLE;0.47THREE*YELLOW;0.47FOUR*GREEN;0.36TWO;0.34FOUR*CIRCLE;0.32ONE*PLUS;0.32PLUS*CIRCLE;0.32SHAPE*TRIANGLE;0.31THREE*NUMBER;0.31GREEN*YELLOW;0.28FOUR*RED;0.27GREEN*PLUS;0.26ONE*NUMBER;0.26STAR*RED;0.26ONE*YELLOW;0.25YELLOW;0.25ONE*CIRCLE;0.25GREEN;0.24THREE*GREEN;0.22NUMBER*GREEN;0.19THREE*PLUS;0.19FOUR*TRIANGLE;0.19STAR*CIRCLE;0.19THREE*BLUE;0.17NUMBER*CIRCLE;0.16ONE*THREE;0.16FOUR;0.16THREE*CIRCLE;0.15NUMBER*COLOUR;0.15ONE*GREEN;0.14ONE*FOUR;0.14TWO*THREE;0.14ONE*STAR;0.13NUMBER;0.12GREEN*CIRCLE;0.12SHAPE*RED;0.11COLOUR*PLUS;0.11RED*CIRCLE;0.10STAR*YELLOW\n",
        "()\n",
        "0.42GREEN;0.42ONE*GREEN;0.41FOUR*TRIANGLE;0.38GREEN*STAR;0.32NUMBER*TRIANGLE;0.32COLOUR*GREEN;0.30THREE*GREEN;0.30GREEN*CIRCLE;0.29GREEN*YELLOW;0.23CIRCLE;0.22NUMBER*RED;0.21GREEN*PLUS;0.20TWO*GREEN;0.19THREE*NUMBER;0.19SHAPE;0.18SHAPE*STAR;0.18TWO*YELLOW;0.17YELLOW*BLUE;0.17THREE*PLUS;0.16FOUR*YELLOW;0.16GREEN*RED;0.15FOUR*PLUS;0.14TRIANGLE*PLUS;0.14THREE*SHAPE;0.13YELLOW*CIRCLE;0.13FOUR*CIRCLE;0.13FOUR*NUMBER;0.12ONE*FOUR;0.12TWO*THREE;0.12ONE;0.12CIRCLE*BLUE;0.11TWO*PLUS;0.11ONE*SHAPE;0.11TWO*SHAPE;0.11COLOUR*BLUE;0.10TRIANGLE*STAR\n",
        "0.438663598821\n",
        "0.0787654440816\n",
        "0.055459512415\n",
        "0.0589187347326\n",
        "0.907933204892\n"
       ]
      }
     ],
     "prompt_number": 8
    },
    {
     "cell_type": "code",
     "collapsed": false,
     "input": [
      "red_trial = vocab.parse(\"NUMBER*ONE + SHAPE*CIRCLE + COLOUR*RED\")\n",
      "green_trial = vocab.parse(\"NUMBER*FOUR + SHAPE*CIRCLE + COLOUR*GREEN\")\n",
      "\n",
      "yellow_1 = vocab.parse(\"NUMBER*TWO + SHAPE*TRIANGLE + COLOUR*YELLOW\")\n",
      "yellow_2 = vocab.parse(\"NUMBER*FOUR + SHAPE*PLUS + COLOUR*YELLOW\")\n",
      "\n",
      "blue_1 = vocab.parse(\"NUMBER*TWO + SHAPE*PLUS + COLOUR*BLUE\")\n",
      "blue_2 = vocab.parse(\"NUMBER*FOUR + SHAPE*STAR + COLOUR*BLUE\")\n",
      "\n",
      "green_1 = vocab.parse(\"NUMBER*FOUR + SHAPE*PLUS + COLOUR*GREEN\")\n",
      "green_2 = vocab.parse(\"NUMBER*ONE + SHAPE*STAR + COLOUR*GREEN\")\n",
      "\n",
      "green_option = vocab.parse(\"NUMBER*TWO + SHAPE*STAR + COLOUR*GREEN\")\n",
      "red_option = vocab.parse(\"NUMBER*ONE + SHAPE*TRIANGLE + COLOUR*RED\")\n",
      "yellow_option = vocab.parse(\"NUMBER*THREE + SHAPE*PLUS + COLOUR*YELLOW\")\n",
      "blue_option = vocab.parse(\"NUMBER*FOUR + SHAPE*CIRCLE + COLOUR*BLUE\")"
     ],
     "language": "python",
     "metadata": {},
     "outputs": [],
     "prompt_number": 61
    },
    {
     "cell_type": "code",
     "collapsed": false,
     "input": [
      "yellow_feedback = yellow_2*~(yellow_1) + yellow_1*~(yellow_2)\n",
      "blue_feedback = blue_2*~(blue_1) + blue_1*~(blue_2)\n",
      "green_feedback = green_2*~(green_1) + green_1*~(green_2)"
     ],
     "language": "python",
     "metadata": {},
     "outputs": [],
     "prompt_number": 62
    },
    {
     "cell_type": "code",
     "collapsed": false,
     "input": [
      "print(vocab.text(trial_card*T))\n",
      "T = vocab.parse('0')\n",
      "T += yellow_feedback\n",
      "T += blue_feedback\n",
      "#T += green_feedback\n",
      "T.normalize()\n",
      "\n",
      "print(vocab.text(green_trial*T))\n",
      "print((green_trial*T).compare(green_option))\n",
      "print((green_trial*T).compare(yellow_option))\n",
      "print((green_trial*T).compare(red_option))\n",
      "print((green_trial*T).compare(blue_option))"
     ],
     "language": "python",
     "metadata": {},
     "outputs": [
      {
       "output_type": "stream",
       "stream": "stdout",
       "text": [
        "0.90COLOUR*GREEN;0.77NUMBER*STAR;0.61TWO*NUMBER;0.59FOUR*STAR;0.58CIRCLE;0.53TRIANGLE*COLOUR;0.53SHAPE*CIRCLE;0.47TRIANGLE*PLUS;0.43SHAPE*RED;0.41COLOUR*CIRCLE;0.38ONE*YELLOW;0.38THREE*NUMBER;0.33YELLOW*CIRCLE;0.29NUMBER*SHAPE;0.28RED*BLUE;0.24FOUR*NUMBER;0.23COLOUR*PLUS;0.23NUMBER*YELLOW;0.22TRIANGLE*RED;0.22NUMBER;0.22GREEN*YELLOW;0.20ONE*NUMBER;0.20TRIANGLE;0.19TRIANGLE*GREEN;0.19YELLOW*RED;0.18THREE*CIRCLE;0.18PLUS*YELLOW;0.17COLOUR*BLUE;0.16STAR*YELLOW;0.16THREE*COLOUR;0.15TWO*GREEN;0.14GREEN;0.13STAR*CIRCLE;0.12THREE*YELLOW;0.12ONE*BLUE;0.12COLOUR*YELLOW;0.12TWO*FOUR;0.11ONE*SHAPE;0.10NUMBER*GREEN\n",
        "0.84COLOUR*GREEN;0.64NUMBER*STAR;0.53CIRCLE;0.48FOUR*NUMBER;0.48TRIANGLE*COLOUR;0.47SHAPE*CIRCLE;0.43SHAPE*RED;0.39YELLOW*CIRCLE;0.38TRIANGLE*PLUS;0.38THREE*NUMBER;0.37FOUR*STAR;0.36TWO*NUMBER;0.36COLOUR*PLUS;0.33RED*BLUE;0.30TRIANGLE*RED;0.29CIRCLE*BLUE;0.29NUMBER*SHAPE;0.28PLUS*BLUE;0.27TWO*GREEN;0.26TRIANGLE;0.26COLOUR*BLUE;0.25TRIANGLE*BLUE;0.25TWO*CIRCLE;0.24THREE*YELLOW;0.24ONE*YELLOW;0.21STAR*CIRCLE;0.21TRIANGLE*GREEN;0.20COLOUR*YELLOW;0.20SHAPE*COLOUR;0.19GREEN*YELLOW;0.18GREEN;0.18COLOUR;0.17ONE*NUMBER;0.15ONE*BLUE;0.15STAR*YELLOW;0.13ONE*SHAPE\n",
        "0.342028999347\n",
        "0.157979474668\n",
        "-0.0332939130501\n",
        "0.388769194695\n"
       ]
      }
     ],
     "prompt_number": 63
    },
    {
     "cell_type": "code",
     "collapsed": false,
     "input": [
      "red_trial = vocab.parse(\"NUMBER*ONE + SHAPE*CIRCLE + COLOUR*RED\")\n",
      "\n",
      "print(vocab.text(red_trial*T))\n",
      "print((red_trial*T).compare(green_option))\n",
      "print((red_trial*T).compare(yellow_option))\n",
      "print((red_trial*T).compare(red_option))\n",
      "print((red_trial*T).compare(blue_option))"
     ],
     "language": "python",
     "metadata": {},
     "outputs": [
      {
       "output_type": "stream",
       "stream": "stdout",
       "text": [
        "0.87COLOUR*RED;0.82TRIANGLE*STAR;0.46THREE*TRIANGLE;0.43PLUS*RED;0.43RED*BLUE;0.42PLUS*STAR;0.41FOUR*TRIANGLE;0.41PLUS;0.40SHAPE*CIRCLE;0.39COLOUR*STAR;0.38TRIANGLE*YELLOW;0.38TWO*COLOUR;0.38THREE*SHAPE;0.35THREE*PLUS;0.34SHAPE*STAR;0.32THREE*COLOUR;0.31TWO*TRIANGLE;0.31NUMBER*SHAPE;0.27COLOUR;0.27YELLOW*RED;0.26ONE*COLOUR;0.26YELLOW*CIRCLE;0.26NUMBER*TRIANGLE;0.25ONE*NUMBER;0.25TWO*BLUE;0.24TRIANGLE;0.23GREEN*RED;0.22TWO*PLUS;0.22THREE*BLUE;0.21COLOUR*BLUE;0.21ONE*BLUE;0.21TWO*GREEN;0.21FOUR*SHAPE;0.21ONE*TRIANGLE;0.21GREEN*YELLOW;0.21PLUS*CIRCLE;0.18FOUR*PLUS;0.18CIRCLE*BLUE;0.18RED;0.18FOUR*BLUE;0.17PLUS*YELLOW;0.16CIRCLE;0.15GREEN;0.15STAR*BLUE;0.14NUMBER*BLUE;0.14ONE*PLUS;0.12YELLOW;0.12ONE;0.12COLOUR*CIRCLE;0.10GREEN*BLUE\n",
        "0.127973039302\n",
        "-0.196310106144\n",
        "0.278559466751\n",
        "0.157284848783\n"
       ]
      }
     ],
     "prompt_number": 60
    },
    {
     "cell_type": "code",
     "collapsed": false,
     "input": [],
     "language": "python",
     "metadata": {},
     "outputs": []
    }
   ],
   "metadata": {}
  }
 ]
}