{
 "metadata": {
  "name": "",
  "signature": "sha256:ce3a29942c559ddb26b7981250ea2270eb365cbb191ba7cebedcd60fab3efe62"
 },
 "nbformat": 3,
 "nbformat_minor": 0,
 "worksheets": [
  {
   "cells": [
    {
     "cell_type": "code",
     "collapsed": false,
     "input": [
      "import nengo.spa\n",
      "\n",
      "# set up the vocab\n",
      "# dimensions and similarity taken from RPM\n",
      "vocab = nengo.spa.Vocabulary(128, max_similarity=0.1, unitary=[\"ONE\"], include_pairs=True)\n",
      "\n",
      "tmp = vocab.parse(\"ONE\")\n",
      "vocab.add(\"TWO\", vocab.parse(\"ONE*ONE\"))\n",
      "vocab.add(\"THREE\", vocab.parse(\"ONE*TWO\"))\n",
      "vocab.add(\"FOUR\", vocab.parse(\"ONE*THREE\"))\n",
      "\n",
      "# test repeating attributes later\n",
      "green_row_1 = vocab.parse(\"NUMBER*ONE + SHAPE*TRIANGLE + COLOUR*GREEN\")\n",
      "green_row_2 = vocab.parse(\"NUMBER*TWO + SHAPE*PLUS + COLOUR*GREEN\")\n",
      "green_row_3 = vocab.parse(\"NUMBER*THREE + SHAPE*STAR + COLOUR*GREEN\")\n",
      "# test swapping rules later\n",
      "yellow_row_1 = vocab.parse(\"NUMBER*ONE + SHAPE*TRIANGLE + COLOUR*YELLOW\")\n",
      "yellow_row_2 = vocab.parse(\"NUMBER*TWO + SHAPE*PLUS + COLOUR*YELLOW\")\n",
      "yellow_row_3 = vocab.parse(\"NUMBER*THREE + SHAPE*STAR + COLOUR*YELLOW\")\n",
      "\n",
      "# test more varied options later\n",
      "green_option = vocab.parse(\"NUMBER*ONE + SHAPE*TRIANGLE + COLOUR*GREEN\")\n",
      "red_option = vocab.parse(\"NUMBER*TWO + SHAPE*STAR + COLOUR*RED\")\n",
      "yellow_option = vocab.parse(\"NUMBER*THREE + SHAPE*PLUS + COLOUR*YELLOW\")\n",
      "blue_option = vocab.parse(\"NUMBER*TWO + SHAPE*CIRCLE + COLOUR*BLUE\")"
     ],
     "language": "python",
     "metadata": {},
     "outputs": [],
     "prompt_number": 2
    },
    {
     "cell_type": "code",
     "collapsed": false,
     "input": [
      "# okay let's try getting a rule that's basically says use the same colour\n",
      "T = vocab.parse('0')\n",
      "T += green_row_2*~(green_row_1)\n",
      "T += green_row_3*~(green_row_2)\n",
      "T += yellow_row_2*~(yellow_row_1)\n",
      "T.normalize()\n",
      "\n",
      "# so every pair is basically a row in what would usually be the matrix\n",
      "trial_card = vocab.parse(\"NUMBER*ONE + SHAPE*CIRCLE + COLOUR*GREEN\")\n",
      "\n",
      "# now test for similarity between the card and the options using the rule\n",
      "print(vocab.text(T)) # why does this give me shit?\n",
      "print()\n",
      "print(vocab.text(trial_card*T))\n",
      "print()\n",
      "print(vocab.text(trial_card*vocab.parse('GREEN*RED')))\n",
      "print((trial_card*T).compare(green_option))\n",
      "print((trial_card*T).compare(yellow_option))\n",
      "print((trial_card*T).compare(red_option))\n",
      "print((trial_card*T).compare(blue_option))"
     ],
     "language": "python",
     "metadata": {},
     "outputs": [
      {
       "output_type": "stream",
       "stream": "stdout",
       "text": [
        "0.36ONE;0.27NUMBER*YELLOW;0.26THREE*BLUE;0.21THREE*COLOUR;0.20SHAPE*CIRCLE;0.16SHAPE*COLOUR;0.16TWO*GREEN;0.15TWO*BLUE;0.15TWO*STAR;0.15FOUR*COLOUR;0.14ONE*GREEN;0.14FOUR*STAR;0.13SHAPE*BLUE;0.13SHAPE*GREEN;0.12PLUS*CIRCLE;0.12YELLOW*RED;0.12TWO*PLUS;0.11TWO*COLOUR;0.11STAR*CIRCLE;0.11COLOUR*RED;0.10GREEN*RED\n",
        "()\n",
        "1.32COLOUR*GREEN;1.17TWO*NUMBER;0.74COLOUR*YELLOW;0.70YELLOW*BLUE;0.62SHAPE*CIRCLE;0.59ONE*NUMBER;0.59NUMBER*SHAPE;0.58TWO*FOUR;0.57GREEN*BLUE;0.46COLOUR;0.44YELLOW*CIRCLE;0.42GREEN*STAR;0.39STAR*YELLOW;0.37ONE*COLOUR;0.36PLUS*BLUE;0.34GREEN*YELLOW;0.30NUMBER*CIRCLE;0.28FOUR*GREEN;0.27STAR;0.25THREE*RED;0.24ONE*CIRCLE;0.22TWO*SHAPE;0.21PLUS*RED;0.21TRIANGLE*GREEN;0.21STAR*BLUE;0.20TRIANGLE*PLUS;0.17TWO*RED;0.17COLOUR*STAR;0.17FOUR*RED;0.15TRIANGLE*BLUE;0.15ONE*STAR;0.15TRIANGLE*RED;0.15ONE*FOUR;0.15TWO*THREE;0.12BLUE;0.12COLOUR*RED;0.12PLUS*STAR;0.10GREEN*PLUS;0.10SHAPE*RED\n",
        "()\n",
        "0.58GREEN*PLUS;0.45COLOUR*RED;0.42TWO*CIRCLE;0.38ONE*COLOUR;0.38TRIANGLE*GREEN;0.37THREE*GREEN;0.35NUMBER*SHAPE;0.28COLOUR*STAR;0.26SHAPE*CIRCLE;0.26COLOUR*CIRCLE;0.25PLUS*STAR;0.25COLOUR*YELLOW;0.20TWO*SHAPE;0.20SHAPE*YELLOW;0.19ONE*RED;0.17STAR*YELLOW;0.17ONE*NUMBER;0.16SHAPE*STAR;0.16SHAPE*PLUS;0.15ONE*YELLOW;0.15GREEN;0.15SHAPE*BLUE;0.14TWO*FOUR;0.14ONE*PLUS;0.14TWO*BLUE;0.14ONE*FOUR;0.14TWO*THREE;0.13THREE*STAR;0.13STAR;0.13FOUR*PLUS;0.12YELLOW*BLUE;0.12FOUR*TRIANGLE;0.12NUMBER*CIRCLE;0.12THREE*TRIANGLE;0.12ONE*CIRCLE;0.11NUMBER*PLUS;0.11YELLOW*RED\n",
        "0.361641653805\n",
        "0.11429508645\n",
        "0.235552162509\n",
        "0.409939698114\n"
       ]
      }
     ],
     "prompt_number": 3
    },
    {
     "cell_type": "code",
     "collapsed": false,
     "input": [
      "trial_card = vocab.parse(\"NUMBER*ONE + SHAPE*CIRCLE + COLOUR*RED\")\n",
      "#WHY THE HELL DOES THIS WORK?\n",
      "print(vocab.text(trial_card*T))\n",
      "print()\n",
      "print(vocab.text(trial_card*vocab.parse('GREEN*RED')))\n",
      "print((trial_card*T).compare(green_option))\n",
      "print((trial_card*vocab.parse('ONE')).compare(green_option))\n",
      "print((trial_card*T).compare(yellow_option))\n",
      "print((trial_card*vocab.parse('ONE')).compare(yellow_option))\n",
      "print((trial_card*T).compare(red_option))\n",
      "print((trial_card*vocab.parse('ONE')).compare(red_option))\n",
      "print((trial_card*T).compare(blue_option))\n",
      "\n",
      "# If it works with three entries per row, then try to make the rule learning a weirder operation that looks for similar rules to strengthen?\n",
      "# That kind of sounds like a clean-up memory"
     ],
     "language": "python",
     "metadata": {},
     "outputs": [
      {
       "output_type": "stream",
       "stream": "stdout",
       "text": [
        "0.75TWO*NUMBER;0.50SHAPE*COLOUR;0.48NUMBER*RED;0.47GREEN*PLUS;0.37COLOUR*RED;0.37NUMBER*TRIANGLE;0.34COLOUR*PLUS;0.32ONE*STAR;0.30TWO*THREE;0.30ONE*FOUR;0.30THREE*PLUS;0.29TWO*COLOUR;0.28SHAPE*PLUS;0.28GREEN*RED;0.27NUMBER*SHAPE;0.27STAR*RED;0.26COLOUR*GREEN;0.26STAR*YELLOW;0.23CIRCLE*BLUE;0.19TRIANGLE*CIRCLE;0.19SHAPE*CIRCLE;0.18NUMBER*STAR;0.17ONE*TRIANGLE;0.17YELLOW*BLUE;0.17THREE*SHAPE;0.16YELLOW;0.16YELLOW*CIRCLE;0.16FOUR*RED;0.15PLUS*BLUE;0.15FOUR*TRIANGLE;0.14TRIANGLE*COLOUR;0.13COLOUR*BLUE;0.13ONE*CIRCLE;0.13RED;0.12FOUR*YELLOW;0.12THREE*BLUE;0.12TWO*PLUS;0.11RED*CIRCLE;0.11STAR*BLUE;0.11ONE*SHAPE;0.11TWO*GREEN;0.11THREE*GREEN;0.11TWO*YELLOW;0.11THREE*RED;0.11NUMBER*CIRCLE;0.10TRIANGLE\n",
        "()\n",
        "0.72NUMBER*RED;0.50ONE*CIRCLE;0.50COLOUR*RED;0.48STAR*BLUE;0.42SHAPE*COLOUR;0.40COLOUR*GREEN;0.39GREEN*PLUS;0.39RED*BLUE;0.39THREE*GREEN;0.37ONE*FOUR;0.37TWO*THREE;0.35ONE;0.35TRIANGLE*CIRCLE;0.32TWO*NUMBER;0.27GREEN*RED;0.25NUMBER;0.24COLOUR*PLUS;0.23PLUS;0.23ONE*RED;0.22SHAPE*STAR;0.21FOUR*BLUE;0.20BLUE;0.20FOUR*NUMBER;0.19NUMBER*STAR;0.18THREE*PLUS;0.17THREE*RED;0.16FOUR*STAR;0.16TWO*STAR;0.15ONE*STAR;0.15SHAPE*PLUS;0.14CIRCLE*BLUE;0.14PLUS*YELLOW;0.13TRIANGLE;0.12SHAPE*GREEN;0.12TWO*FOUR;0.11COLOUR*YELLOW\n",
        "0.0124271202449\n",
        "-0.217241747596\n",
        "0.125550076519\n",
        "0.000616455386496\n",
        "0.224585611052\n",
        "0.222670522091\n",
        "0.326367649939\n"
       ]
      }
     ],
     "prompt_number": 79
    },
    {
     "cell_type": "code",
     "collapsed": false,
     "input": [
      "vocab.text(~(trial_card*T))\n",
      "green_row_1.compare(trial_card)\n",
      "green_row_1.compare(blue_option)"
     ],
     "language": "python",
     "metadata": {},
     "outputs": [
      {
       "metadata": {},
       "output_type": "pyout",
       "prompt_number": 18,
       "text": [
        "-0.02125495658581612"
       ]
      }
     ],
     "prompt_number": 18
    },
    {
     "cell_type": "code",
     "collapsed": false,
     "input": [
      "# when I add vectors together, I'm emphasizing what they have in common\n",
      "# can I just check the similarity between that super-imposed vector and the options?"
     ],
     "language": "python",
     "metadata": {},
     "outputs": [],
     "prompt_number": 23
    },
    {
     "cell_type": "code",
     "collapsed": false,
     "input": [
      "vocab.text((green_row_1+green_row_2+green_row_3)*~vocab.parse(\"COLOUR\"))"
     ],
     "language": "python",
     "metadata": {},
     "outputs": [
      {
       "metadata": {},
       "output_type": "pyout",
       "prompt_number": 27,
       "text": [
        "'2.64GREEN;1.95PLUS;1.69TRIANGLE;1.08STAR;0.87COLOUR;0.38BLUE;0.23YELLOW'"
       ]
      }
     ],
     "prompt_number": 27
    },
    {
     "cell_type": "code",
     "collapsed": false,
     "input": [
      "vocab.text(green_row_1+green_row_2+green_row_3)"
     ],
     "language": "python",
     "metadata": {},
     "outputs": [
      {
       "metadata": {},
       "output_type": "pyout",
       "prompt_number": 19,
       "text": [
        "'3.19COLOUR*GREEN;1.56ONE*NUMBER;1.20THREE*NUMBER;1.17SHAPE*PLUS;0.95SHAPE*STAR;0.87CIRCLE;0.78SHAPE*GREEN;0.75SHAPE*TRIANGLE;0.69TWO*NUMBER;0.66COLOUR;0.65TRIANGLE*COLOUR;0.58THREE*GREEN;0.56ONE*PLUS;0.51COLOUR*RED;0.49CIRCLE*BLUE;0.49FOUR*BLUE;0.49TRIANGLE*CIRCLE;0.46ONE*GREEN;0.43THREE*RED;0.42STAR*CIRCLE;0.42NUMBER;0.41TRIANGLE*BLUE;0.39TRIANGLE*STAR;0.34COLOUR*PLUS;0.33NUMBER*YELLOW;0.32THREE*SHAPE;0.31COLOUR*YELLOW;0.28NUMBER*RED;0.26TWO*THREE;0.26ONE*FOUR;0.26THREE*PLUS;0.25TRIANGLE;0.24PLUS*YELLOW;0.22BLUE;0.21GREEN*PLUS;0.20YELLOW*CIRCLE;0.20SHAPE*YELLOW;0.17SHAPE;0.16CIRCLE*RED;0.14NUMBER*TRIANGLE;0.14GREEN*BLUE;0.14NUMBER*PLUS;0.14FOUR*STAR;0.13RED*BLUE;0.13TRIANGLE*PLUS;0.13ONE*THREE;0.13FOUR;0.13THREE*STAR;0.11FOUR*COLOUR'"
       ]
      }
     ],
     "prompt_number": 19
    },
    {
     "cell_type": "code",
     "collapsed": false,
     "input": [
      "vocab.text(green_row_1)"
     ],
     "language": "python",
     "metadata": {},
     "outputs": [
      {
       "metadata": {},
       "output_type": "pyout",
       "prompt_number": 18,
       "text": [
        "'1.16COLOUR*GREEN;1.11ONE*NUMBER;1.03SHAPE*TRIANGLE;0.35TRIANGLE*CIRCLE;0.34TRIANGLE*COLOUR;0.34COLOUR;0.32SHAPE*GREEN;0.31FOUR*BLUE;0.31CIRCLE;0.28NUMBER*YELLOW;0.28COLOUR*YELLOW;0.28THREE*RED;0.25TRIANGLE*BLUE;0.25TRIANGLE*STAR;0.24TWO*YELLOW;0.22SHAPE;0.22COLOUR*PLUS;0.21CIRCLE*BLUE;0.21THREE;0.21ONE*TWO;0.20THREE*GREEN;0.20ONE*PLUS;0.20THREE*PLUS;0.20TRIANGLE;0.19ONE*GREEN;0.19COLOUR*RED;0.18PLUS*YELLOW;0.17THREE*SHAPE;0.15FOUR*PLUS;0.14GREEN*BLUE;0.14GREEN*YELLOW;0.13NUMBER;0.13SHAPE*RED;0.12CIRCLE*RED;0.12GREEN*STAR;0.12BLUE;0.11NUMBER*STAR;0.10FOUR*SHAPE;0.10YELLOW*BLUE;0.10NUMBER*TRIANGLE'"
       ]
      }
     ],
     "prompt_number": 18
    },
    {
     "cell_type": "code",
     "collapsed": false,
     "input": [
      "tmp = vocab.parse(\"GREEN+ONE+PLUS\")\n",
      "vocab.text(tmp)"
     ],
     "language": "python",
     "metadata": {},
     "outputs": [
      {
       "metadata": {},
       "output_type": "pyout",
       "prompt_number": 13,
       "text": [
        "'0.96GREEN;0.80ONE;0.74PLUS'"
       ]
      }
     ],
     "prompt_number": 13
    },
    {
     "cell_type": "code",
     "collapsed": false,
     "input": [
      "import nengo.spa\n",
      "\n",
      "# set up the vocab\n",
      "# dimensions and similarity taken from RPM\n",
      "vocab = nengo.spa.Vocabulary(128, max_similarity=0.1, unitary=[\"ONE\"], include_pairs=True)\n",
      "\n",
      "tmp = vocab.parse(\"ONE\")\n",
      "vocab.add(\"TWO\", vocab.parse(\"ONE*ONE\"))\n",
      "vocab.add(\"THREE\", vocab.parse(\"ONE*TWO\"))\n",
      "vocab.add(\"FOUR\", vocab.parse(\"ONE*THREE\"))\n",
      "\n",
      "# test repeating attributes later\n",
      "green_row_1 = vocab.parse(\"NUMBER*ONE + SHAPE*TRIANGLE + COLOUR*GREEN\")\n",
      "green_row_2 = vocab.parse(\"NUMBER*TWO + SHAPE*PLUS + COLOUR*GREEN\")\n",
      "green_row_3 = vocab.parse(\"NUMBER*THREE + SHAPE*STAR + COLOUR*GREEN\")\n",
      "# test swapping rules later\n",
      "yellow_row_1 = vocab.parse(\"NUMBER*ONE + SHAPE*TRIANGLE + COLOUR*YELLOW\")\n",
      "yellow_row_2 = vocab.parse(\"NUMBER*TWO + SHAPE*PLUS + COLOUR*YELLOW\")\n",
      "yellow_row_3 = vocab.parse(\"NUMBER*THREE + SHAPE*STAR + COLOUR*YELLOW\")\n",
      "\n",
      "# test more varied options later\n",
      "green_option = vocab.parse(\"NUMBER*ONE + SHAPE*TRIANGLE + COLOUR*GREEN\")\n",
      "red_option = vocab.parse(\"NUMBER*TWO + SHAPE*STAR + COLOUR*RED\")\n",
      "yellow_option = vocab.parse(\"NUMBER*THREE + SHAPE*PLUS + COLOUR*YELLOW\")\n",
      "blue_option = vocab.parse(\"NUMBER*TWO + SHAPE*CIRCLE + COLOUR*BLUE\")"
     ],
     "language": "python",
     "metadata": {},
     "outputs": [],
     "prompt_number": 1
    },
    {
     "cell_type": "code",
     "collapsed": false,
     "input": [
      "# okay let's try getting a rule that's basically says use the same colour\n",
      "T = vocab.parse('0')\n",
      "T += green_row_2*~(green_row_1)\n",
      "T += green_row_3*~(green_row_2)\n",
      "T += yellow_row_2*~(yellow_row_1)\n",
      "T.normalize()\n",
      "\n",
      "# so every pair is basically a row in what would usually be the matrix\n",
      "trial_card = vocab.parse(\"NUMBER*ONE + SHAPE*CIRCLE + COLOUR*GREEN\")\n",
      "\n",
      "# now test for similarity between the card and the options using the rule\n",
      "print(vocab.text(trial_card*T))\n",
      "print()\n",
      "print(vocab.text(trial_card*vocab.parse('GREEN*RED')))\n",
      "print((trial_card*T).compare(green_option))\n",
      "print((trial_card*T).compare(yellow_option))\n",
      "print((trial_card*T).compare(red_option))\n",
      "print((trial_card*T).compare(blue_option))"
     ],
     "language": "python",
     "metadata": {},
     "outputs": [
      {
       "output_type": "stream",
       "stream": "stdout",
       "text": [
        "1.32COLOUR*GREEN;1.17TWO*NUMBER;0.74COLOUR*YELLOW;0.70YELLOW*BLUE;0.62SHAPE*CIRCLE;0.59ONE*NUMBER;0.59NUMBER*SHAPE;0.58TWO*FOUR;0.57GREEN*BLUE;0.46COLOUR;0.44YELLOW*CIRCLE;0.42GREEN*STAR;0.39STAR*YELLOW;0.37ONE*COLOUR;0.36PLUS*BLUE;0.34GREEN*YELLOW;0.30NUMBER*CIRCLE;0.28FOUR*GREEN;0.27STAR;0.25THREE*RED;0.24ONE*CIRCLE;0.22TWO*SHAPE;0.21PLUS*RED;0.21TRIANGLE*GREEN;0.21STAR*BLUE;0.20TRIANGLE*PLUS;0.17TWO*RED;0.17COLOUR*STAR;0.17FOUR*RED;0.15TRIANGLE*BLUE;0.15ONE*STAR;0.15TRIANGLE*RED;0.15ONE*FOUR;0.15TWO*THREE;0.12BLUE;0.12COLOUR*RED;0.12PLUS*STAR;0.10GREEN*PLUS;0.10SHAPE*RED\n",
        "()\n",
        "0.58GREEN*PLUS;0.45COLOUR*RED;0.42TWO*CIRCLE;0.38ONE*COLOUR;0.38TRIANGLE*GREEN;0.37THREE*GREEN;0.35NUMBER*SHAPE;0.28COLOUR*STAR;0.26SHAPE*CIRCLE;0.26COLOUR*CIRCLE;0.25PLUS*STAR;0.25COLOUR*YELLOW;0.20TWO*SHAPE;0.20SHAPE*YELLOW;0.19ONE*RED;0.17STAR*YELLOW;0.17ONE*NUMBER;0.16SHAPE*STAR;0.16SHAPE*PLUS;0.15ONE*YELLOW;0.15GREEN;0.15SHAPE*BLUE;0.14TWO*FOUR;0.14ONE*PLUS;0.14TWO*BLUE;0.14ONE*FOUR;0.14TWO*THREE;0.13THREE*STAR;0.13STAR;0.13FOUR*PLUS;0.12YELLOW*BLUE;0.12FOUR*TRIANGLE;0.12NUMBER*CIRCLE;0.12THREE*TRIANGLE;0.12ONE*CIRCLE;0.11NUMBER*PLUS;0.11YELLOW*RED\n",
        "0.361641653805\n",
        "0.11429508645\n",
        "0.235552162509\n",
        "0.409939698114\n"
       ]
      }
     ],
     "prompt_number": 4
    },
    {
     "cell_type": "code",
     "collapsed": false,
     "input": [
      "vocab.text(trial_card*vocab.parse('1'))"
     ],
     "language": "python",
     "metadata": {},
     "outputs": [
      {
       "metadata": {},
       "output_type": "pyout",
       "prompt_number": 6,
       "text": [
        "'1.05SHAPE*CIRCLE;0.99ONE*NUMBER;0.98COLOUR*GREEN;0.45NUMBER*SHAPE;0.41TWO*THREE;0.41ONE*FOUR;0.35COLOUR;0.31COLOUR*YELLOW;0.23TRIANGLE;0.23THREE*RED;0.21TWO*FOUR;0.20YELLOW*BLUE;0.20NUMBER*PLUS;0.20PLUS*RED;0.15COLOUR*STAR;0.14NUMBER*YELLOW;0.14NUMBER*CIRCLE;0.13SHAPE*YELLOW;0.13TRIANGLE*COLOUR;0.13YELLOW*CIRCLE;0.13PLUS*BLUE;0.12GREEN*RED;0.12TWO*PLUS;0.12TWO*YELLOW;0.12TWO;0.12COLOUR*RED;0.12COLOUR*CIRCLE;0.10GREEN*STAR;0.10FOUR*RED;0.10THREE*CIRCLE;0.10PLUS'"
       ]
      }
     ],
     "prompt_number": 6
    },
    {
     "cell_type": "code",
     "collapsed": false,
     "input": [
      "# what's the equivalent of convolved with nothing?"
     ],
     "language": "python",
     "metadata": {},
     "outputs": []
    }
   ],
   "metadata": {}
  }
 ]
}