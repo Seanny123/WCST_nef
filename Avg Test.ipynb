{
 "metadata": {
  "name": "",
  "signature": "sha256:798af5ca319b703e4aacaaffc013dd05b0d2aec1b11efceae140f3f32b85d78c"
 },
 "nbformat": 3,
 "nbformat_minor": 0,
 "worksheets": [
  {
   "cells": [
    {
     "cell_type": "code",
     "collapsed": false,
     "input": [
      "import nengo\n",
      "import integrator\n",
      "from nengo.utils.functions import piecewise\n",
      "\n",
      "import ipdb\n",
      "\n",
      "# Check if the integrator works\n",
      "\n",
      "model = nengo.Network(label=\"test\")\n",
      "with model:\n",
      "\tinput = nengo.Node(piecewise({0: [0,0], 0.2: [1,-1], 1: [0,0], 2: [-2,2], 3: [0,0], 4: [1,-1], 5: [0,0]}))\n",
      "\t# Dan technically only uses 25 neurons per dimension\n",
      "\tgreat = integrator.ea_integrator(100, 2, input_scale=0.4, forget_rate=0.2, step_size=0.2)\n",
      "\t#ipdb.set_trace()\n",
      "\tnengo.Connection(input, great.input, synapse=None)\n",
      "\n",
      "\tinput_probe = nengo.Probe(input)\n",
      "\toutput_probe = nengo.Probe(great.output, synapse=0.01)"
     ],
     "language": "python",
     "metadata": {},
     "outputs": [
      {
       "javascript": [
        "\n",
        "        require([\"widgets/js/widget\", \"widgets/js/manager\"],\n",
        "            function(widget, manager) {\n",
        "          if (typeof widget.DOMWidgetView == 'undefined') {\n",
        "            widget = IPython;\n",
        "          }\n",
        "          if (typeof manager.WidgetManager == 'undefined') {\n",
        "            manager = IPython;\n",
        "          }\n",
        "\n",
        "          var NengoProgressBar = widget.DOMWidgetView.extend({\n",
        "            render: function() {\n",
        "              // $el is the DOM of the widget\n",
        "              this.$el.css({width: '100%', marginBottom: '0.5em'});\n",
        "              this.$el.html([\n",
        "                '<div style=\"',\n",
        "                    'width: 100%;',\n",
        "                    'border: 1px solid #cfcfcf;',\n",
        "                    'border-radius: 4px;',\n",
        "                    'text-align: center;',\n",
        "                    'position: relative;\">',\n",
        "                  '<div class=\"pb-text\" style=\"',\n",
        "                      'position: absolute;',\n",
        "                      'width: 100%;\">',\n",
        "                    '0%',\n",
        "                  '</div>',\n",
        "                  '<div class=\"pb-bar\" style=\"',\n",
        "                      'background-color: #bdd2e6;',\n",
        "                      'width: 0%;',\n",
        "                      'transition: width 0.1s linear;\">',\n",
        "                    '&nbsp;',\n",
        "                  '</div>',\n",
        "                '</div>'].join(''));\n",
        "            },\n",
        "\n",
        "            update: function() {\n",
        "              this.$el.css({width: '100%', marginBottom: '0.5em'});\n",
        "              var progress = 100 * this.model.get('progress');\n",
        "              var text = this.model.get('text');\n",
        "              this.$el.find('div.pb-bar').width(progress.toString() + '%');\n",
        "              this.$el.find('div.pb-text').text(text);\n",
        "            },\n",
        "          });\n",
        "\n",
        "          manager.WidgetManager.register_widget_view(\n",
        "            'NengoProgressBar', NengoProgressBar);\n",
        "        });"
       ],
       "metadata": {},
       "output_type": "display_data",
       "text": [
        "<IPython.core.display.Javascript at 0x7f37d650af90>"
       ]
      }
     ],
     "prompt_number": 1
    },
    {
     "cell_type": "code",
     "collapsed": false,
     "input": [
      "sim = nengo.Simulator(model)\n",
      "sim.run(6)"
     ],
     "language": "python",
     "metadata": {},
     "outputs": [],
     "prompt_number": 2
    },
    {
     "cell_type": "code",
     "collapsed": false,
     "input": [
      "import matplotlib.pyplot as plt\n",
      "%matplotlib inline\n",
      "\n",
      "plt.plot(sim.trange(), sim.data[input_probe], label=\"input\")\n",
      "plt.plot(sim.trange(), sim.data[output_probe], label=\"output\")\n",
      "plt.legend()"
     ],
     "language": "python",
     "metadata": {},
     "outputs": [
      {
       "metadata": {},
       "output_type": "pyout",
       "prompt_number": 5,
       "text": [
        "<matplotlib.legend.Legend at 0x7f37cc7b2550>"
       ]
      },
      {
       "metadata": {},
       "output_type": "display_data",
       "png": "[encoded data removed]",
       "text": [
        "<matplotlib.figure.Figure at 0x7f37cc679c10>"
       ]
      }
     ],
     "prompt_number": 5
    },
    {
     "cell_type": "code",
     "collapsed": false,
     "input": [
      "import nengo.spa\n",
      "import nengo\n",
      "from nengo.utils.functions import piecewise\n",
      "\n",
      "# set up the vocab\n",
      "# similarity taken from RPM\n",
      "# dimensions found by trial and error\n",
      "vocab_d = 128\n",
      "vocab = nengo.spa.Vocabulary(vocab_d, max_similarity=0.1, unitary=[\"ONE\"], include_pairs=True)\n",
      "\n",
      "tmp = vocab.parse(\"ONE\")\n",
      "vocab.add(\"TWO\", vocab.parse(\"ONE*ONE\"))\n",
      "vocab.add(\"THREE\", vocab.parse(\"ONE*TWO\"))\n",
      "vocab.add(\"FOUR\", vocab.parse(\"ONE*THREE\"))\n",
      "\n",
      "# test repeating attributes later\n",
      "green_row_1 = vocab.parse(\"NUMBER*ONE + SHAPE*TRIANGLE + COLOUR*GREEN\")\n",
      "green_row_2 = vocab.parse(\"NUMBER*TWO + SHAPE*PLUS + COLOUR*GREEN\")\n",
      "green_row_3 = vocab.parse(\"NUMBER*THREE + SHAPE*STAR + COLOUR*GREEN\")\n",
      "# test swapping rules later\n",
      "yellow_row_1 = vocab.parse(\"NUMBER*ONE + SHAPE*TRIANGLE + COLOUR*YELLOW\")\n",
      "yellow_row_2 = vocab.parse(\"NUMBER*TWO + SHAPE*PLUS + COLOUR*YELLOW\")\n",
      "yellow_row_3 = vocab.parse(\"NUMBER*THREE + SHAPE*STAR + COLOUR*YELLOW\")\n",
      "\n",
      "trial_card = vocab.parse(\"NUMBER*ONE + SHAPE*CIRCLE + COLOUR*GREEN\")"
     ],
     "language": "python",
     "metadata": {},
     "outputs": [],
     "prompt_number": 2
    },
    {
     "cell_type": "code",
     "collapsed": false,
     "input": [
      "import numpy as np\n",
      "\n",
      "# make the inputs\n",
      "input_list = [green_row_2*~(green_row_1), green_row_3*~(green_row_2), yellow_row_2*~(yellow_row_1)]\n",
      "learn_dict = {0: np.zeros(vocab_d)}\n",
      "for idx, i in enumerate(input_list):\n",
      "    learn_dict[0.2*(1+idx)] = i.v/(idx)\n",
      "\n",
      "trial_dict = {0.0:trial_card.v}"
     ],
     "language": "python",
     "metadata": {},
     "outputs": [],
     "prompt_number": 3
    },
    {
     "cell_type": "code",
     "collapsed": false,
     "input": [
      "import eval_net\n",
      "import integrator\n",
      "\n",
      "# direct neurons to start\n",
      "direct = True\n",
      "if(direct ==  True):\n",
      "    # Because setting them all to 1 has weird effects\n",
      "    model.config[nengo.Ensemble].neuron_type = nengo.Direct()\n",
      "    p_neurons = 5\n",
      "    e_neurons = 5\n",
      "    i_neurons = 5\n",
      "    c_neurons = 10\n",
      "else:\n",
      "    p_neurons = 50\n",
      "    e_neurons = 25\n",
      "    i_neurons = 50\n",
      "    c_neurons = 50*vocab_d # according to Xuan's heuristic\n",
      "\n",
      "model = nengo.spa.SPA(label=\"transform test\", seed=0)\n",
      "with model:\n",
      "    input = nengo.Node(piecewise(learn_dict))\n",
      "    trial = nengo.Node(piecewise(trial_dict))\n",
      "    e_n = eval_net.eval_net(p_neurons, e_neurons, vocab_d, vocab)\n",
      "\n",
      "    # Dan technically only uses 25 neurons per dimension and only 25 dimensions\n",
      "    great = integrator.ea_integrator(i_neurons, vocab_d, input_scale=0.4, forget_rate=0.2, step_size=0.2)\n",
      "    # is this a really silly amount of neurons? # okay, can I just make this direct?\n",
      "    cconv = nengo.networks.CircularConvolution(c_neurons, 128)\n",
      "        \n",
      "    nengo.Connection(input, great.input, synapse=None)\n",
      "    nengo.Connection(great.output, cconv.A)\n",
      "    nengo.Connection(trial, cconv.B)\n",
      "    nengo.Connection(cconv.output, e_n.input)\n",
      "    \n",
      "\n",
      "    input_probe = nengo.Probe(input)\n",
      "    cc_probe = nengo.Probe(cconv.output, synapse=0.01)\n",
      "    output_probe = nengo.Probe(e_n.output, synapse=0.01)"
     ],
     "language": "python",
     "metadata": {},
     "outputs": [],
     "prompt_number": 26
    },
    {
     "cell_type": "code",
     "collapsed": false,
     "input": [
      "sim = nengo.Simulator(model)\n",
      "sim.run(0.2*(len(input_list)+1))"
     ],
     "language": "python",
     "metadata": {},
     "outputs": [],
     "prompt_number": 27
    },
    {
     "cell_type": "code",
     "collapsed": false,
     "input": [
      "vocab.text(vocab.parse(vocab.key_pairs[60])*trial_card)"
     ],
     "language": "python",
     "metadata": {},
     "outputs": [
      {
       "metadata": {},
       "output_type": "pyout",
       "prompt_number": 79,
       "text": [
        "'0.49FOUR*YELLOW;0.43FOUR*NUMBER;0.38FOUR*CIRCLE;0.34COLOUR*CIRCLE;0.33NUMBER;0.30TWO*NUMBER;0.28ONE*TRIANGLE;0.27SHAPE*CIRCLE;0.27PLUS;0.26TRIANGLE*GREEN;0.25ONE*FOUR;0.25TWO*THREE;0.25TWO;0.25COLOUR;0.22STAR*YELLOW;0.21FOUR*COLOUR;0.19SHAPE*STAR;0.18STAR;0.16TRIANGLE*STAR;0.16SHAPE*TRIANGLE;0.15THREE*GREEN;0.13THREE*YELLOW;0.13THREE*NUMBER;0.13TWO*SHAPE;0.12ONE*COLOUR;0.11THREE*FOUR;0.11TRIANGLE*PLUS;0.11TWO*CIRCLE;0.11NUMBER*YELLOW'"
       ]
      }
     ],
     "prompt_number": 79
    },
    {
     "cell_type": "code",
     "collapsed": false,
     "input": [
      "vocab.text(trial_card)"
     ],
     "language": "python",
     "metadata": {},
     "outputs": [
      {
       "metadata": {},
       "output_type": "pyout",
       "prompt_number": 78,
       "text": [
        "'1.09COLOUR*GREEN;0.88ONE*NUMBER;0.70SHAPE*CIRCLE;0.26TWO*STAR;0.26FOUR*GREEN;0.25THREE*COLOUR;0.24NUMBER*PLUS;0.21TWO*GREEN;0.18COLOUR*YELLOW;0.18TWO*TRIANGLE;0.17TRIANGLE*GREEN;0.16THREE*NUMBER;0.14THREE*CIRCLE;0.14ONE;0.13ONE*CIRCLE;0.13FOUR*PLUS;0.13NUMBER*SHAPE;0.12TWO*THREE;0.12ONE*FOUR;0.12TWO*PLUS;0.11NUMBER*CIRCLE'"
       ]
      }
     ],
     "prompt_number": 78
    },
    {
     "cell_type": "code",
     "collapsed": false,
     "input": [],
     "language": "python",
     "metadata": {},
     "outputs": []
    }
   ],
   "metadata": {}
  }
 ]
}